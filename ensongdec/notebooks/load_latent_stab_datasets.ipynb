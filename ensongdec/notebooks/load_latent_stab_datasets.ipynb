{
 "cells": [
  {
   "cell_type": "code",
   "execution_count": 37,
   "id": "91b389c7-8ead-49e7-b1db-b9448e9ea8b1",
   "metadata": {},
   "outputs": [
    {
     "name": "stdout",
     "output_type": "stream",
     "text": [
      "TRAJECTORIES_z_r12r13_21_20240503_024026_hvc_all_latent_stability_dataset.pkl\n",
      "dict_keys(['original_neural_traces', 'complimentary_neural_traces'])\n",
      "hvc_all\n",
      "(47, 12, 179) (47, 12, 179)\n",
      "TRAJECTORIES_z_r12r13_21_20240502_201905_ra_all_latent_stability_dataset.pkl\n",
      "dict_keys(['original_neural_traces', 'complimentary_neural_traces'])\n",
      "ra_all\n",
      "(47, 12, 179) (47, 12, 179)\n",
      "RAW_z_r12r13_21_20240502_201857_ra_all_latent_stability_dataset.pkl\n",
      "dict_keys(['original_neural_traces', 'complimentary_neural_traces'])\n",
      "(47, 42, 26999) (47, 42, 26999)\n",
      "RAW_z_r12r13_21_20240503_024021_hvc_all_latent_stability_dataset.pkl\n",
      "dict_keys(['original_neural_traces', 'complimentary_neural_traces'])\n",
      "(47, 25, 26999) (47, 25, 26999)\n"
     ]
    }
   ],
   "source": [
    "import pickle\n",
    "\n",
    "dsets = {\n",
    "    'TRAJECTORIES_z_r12r13_21_20240502_201905_ra_all_latent_stability_dataset.pkl',\n",
    "    'TRAJECTORIES_z_r12r13_21_20240503_024026_hvc_all_latent_stability_dataset.pkl'\n",
    "}\n",
    "\n",
    "ds_path = '/home/jovyan/pablo_tostado/bird_song/enSongDec/data/'\n",
    "\n",
    "for ds in dsets:\n",
    "    print(ds)\n",
    "    with open(ds_path+ds, 'rb') as file:\n",
    "        ds_dict = pickle.load(file)\n",
    "        print(ds_dict['neural_dict'].keys())\n",
    "        for k in ds_dict['neural_dict']['original_neural_traces']:\n",
    "            print(k)\n",
    "            print(ds_dict['neural_dict']['original_neural_traces'][k]['gpfa'][k+'_dim12']['trajectories'].shape, \n",
    "                  ds_dict['neural_dict']['complimentary_neural_traces'][k]['gpfa'][k+'_dim12']['trajectories'].shape)\n",
    "\n",
    "# ---------- RAW ------------ #\n",
    "dsets = {\n",
    "    'RAW_z_r12r13_21_20240502_201857_ra_all_latent_stability_dataset.pkl',\n",
    "    'RAW_z_r12r13_21_20240503_024021_hvc_all_latent_stability_dataset.pkl'\n",
    "}\n",
    "\n",
    "ds_path = '/home/jovyan/pablo_tostado/bird_song/enSongDec/data/'\n",
    "\n",
    "for ds in dsets:\n",
    "    print(ds)\n",
    "    with open(ds_path+ds, 'rb') as file:\n",
    "        ds_dict = pickle.load(file)\n",
    "        print(ds_dict['neural_dict'].keys())\n",
    "        for k in ds_dict['neural_dict']['original_neural_traces']:\n",
    "            print(ds_dict['neural_dict']['original_neural_traces'][k].shape, \n",
    "                  ds_dict['neural_dict']['complimentary_neural_traces'][k].shape)"
   ]
  },
  {
   "cell_type": "code",
   "execution_count": null,
   "id": "1da2851e-6c60-47bf-abaf-0684fefec2d1",
   "metadata": {},
   "outputs": [],
   "source": []
  }
 ],
 "metadata": {
  "kernelspec": {
   "display_name": "Python 3 (ipykernel)",
   "language": "python",
   "name": "python3"
  },
  "language_info": {
   "codemirror_mode": {
    "name": "ipython",
    "version": 3
   },
   "file_extension": ".py",
   "mimetype": "text/x-python",
   "name": "python",
   "nbconvert_exporter": "python",
   "pygments_lexer": "ipython3",
   "version": "3.11.7"
  }
 },
 "nbformat": 4,
 "nbformat_minor": 5
}
