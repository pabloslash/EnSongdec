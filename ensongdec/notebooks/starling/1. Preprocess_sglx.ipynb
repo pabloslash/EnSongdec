{
 "cells": [
  {
   "cell_type": "markdown",
   "metadata": {},
   "source": [
    "# Pre-processing pipeline for spikeglx sessions, zebra finch\n",
    "- For every run in the session:\n",
    " - Load the recordings\n",
    " - Extract wav chan with micrhopohone and make a wav chan with the nidq syn signal\n",
    " - Get the sync events for the nidq sync channel\n",
    " \n",
    " - Do bout detection\n",
    " \n",
    "In another notebook, bout detection is curated\n",
    "- Left to decide where to:\n",
    "    - Sort spikes\n",
    "    - Sync the spikes/lfp/nidq\n",
    "    - make and plot 'bout rasters'"
   ]
  },
  {
   "cell_type": "code",
   "execution_count": 1,
   "metadata": {},
   "outputs": [
    {
     "name": "stdout",
     "output_type": "stream",
     "text": [
      "h5py version > 2.10.0. Some extractors might not work properly. It is recommended to downgrade to version 2.10.0: \n",
      ">>> pip install h5py==2.10.0\n"
     ]
    },
    {
     "name": "stderr",
     "output_type": "stream",
     "text": [
      "2024-06-19 02:31:27,397 root         INFO     all modules loaded\n"
     ]
    }
   ],
   "source": [
    "%matplotlib inline\n",
    "import os\n",
    "import glob\n",
    "import logging\n",
    "import pickle\n",
    "import numpy as np\n",
    "import pandas as pd\n",
    "from scipy.io import wavfile\n",
    "from scipy import signal\n",
    "import traceback\n",
    "import warnings\n",
    "\n",
    "from matplotlib import pyplot as plt\n",
    "from importlib import reload\n",
    "\n",
    "logger = logging.getLogger()\n",
    "handler = logging.StreamHandler()\n",
    "formatter = logging.Formatter(\n",
    "        '%(asctime)s %(name)-12s %(levelname)-8s %(message)s')\n",
    "handler.setFormatter(formatter)\n",
    "logger.addHandler(handler)\n",
    "logger.setLevel(logging.INFO)\n",
    "\n",
    "\n",
    "from ceciestunepipe.file import bcistructure as et\n",
    "from ceciestunepipe.util import sglxutil as sglu\n",
    "from ceciestunepipe.util import rigutil as ru\n",
    "from ceciestunepipe.util import wavutil as wu\n",
    "from ceciestunepipe.util import syncutil as su\n",
    "\n",
    "from ceciestunepipe.util.sound import boutsearch as bs\n",
    "\n",
    "from ceciestunepipe.util.spikeextractors import preprocess as pre\n",
    "from ceciestunepipe.util.spikeextractors.extractors.spikeglxrecordingextractor import readSGLX as rsgl\n",
    "from ceciestunepipe.util.spikeextractors.extractors.spikeglxrecordingextractor import spikeglxrecordingextractor as sglex\n",
    "\n",
    "import spikeinterface as si\n",
    "import spikeinterface.extractors as se\n",
    "import spikeinterface.toolkit as st\n",
    "import spikeinterface.sorters as ss\n",
    "import spikeinterface.comparison as sc\n",
    "import spikeinterface.widgets as sw\n",
    "logger.info('all modules loaded')"
   ]
  },
  {
   "cell_type": "markdown",
   "metadata": {},
   "source": [
    "## Session parameters and raw files"
   ]
  },
  {
   "cell_type": "markdown",
   "metadata": {},
   "source": [
    "#### list all the sessions for this bird"
   ]
  },
  {
   "cell_type": "code",
   "execution_count": 2,
   "metadata": {},
   "outputs": [
    {
     "name": "stderr",
     "output_type": "stream",
     "text": [
      "2024-06-19 02:31:27,403 root         INFO     all sessions for bird are ['2021-05-12', '2021-05-20', '2021-05-21', '2021-05-22', '2021-05-23', '2021-05-24', '2021-05-25', '2021-05-26', '2021-05-27', '2021-05-28', '2021-05-29', '2021-05-30', '2021-05-31', '2021-06-01', '2021-06-02', '2021-06-03', '2021-06-04', '2021-06-05', '2021-06-06', '2021-06-07', '2021-06-08', '2021-06-09', '2021-06-10', '2021-06-11', '2021-06-12', '2021-06-13', '2021-06-14', '2021-06-15', '2021-06-16', '2021-06-17', '2021-06-18', '2021-06-19', '2021-06-20', '2021-06-21', '2021-06-22', '2021-06-23', '2021-06-24', '2021-06-25', '2021-06-26', '2021-06-27', '2021-06-28', '2021-06-29', '2021-06-30', '2021-07-01', '2021-07-02', '2021-07-03', '2021-07-04', '2021-07-05']\n"
     ]
    }
   ],
   "source": [
    "bird = 's_b1253_21'\n",
    "all_bird_sess = et.list_sessions(bird)\n",
    "logger.info('all sessions for bird are {}'.format(all_bird_sess))"
   ]
  },
  {
   "cell_type": "markdown",
   "metadata": {},
   "source": [
    "### set up bird and sessions parameters\n",
    "this will define:\n",
    "- locations of files (for the bird)\n",
    "- signals and channels to look for in the metadata of the files and in the rig.json parameter file: Note that this have to exist in all of the sessions that will be processed\n",
    "- 'sess' is unimportant here, but it comes handy if there is need to debug usin a single session"
   ]
  },
  {
   "cell_type": "code",
   "execution_count": 8,
   "metadata": {},
   "outputs": [],
   "source": [
    "reload(et)\n",
    "# for one example session\n",
    "\n",
    "sess_par = {'bird': 's_b1253_21',\n",
    "           'sess': '2021-06-10',\n",
    "           'probes': ['probe_0'], #probes of interest\n",
    "           'mic_list': ['microphone_0'], #list of mics of interest, by signal name in rig.json\n",
    "           'stim_list': ['wav_stim', 'wav_syn'], # list of adc chans with the stimulus\n",
    "            'ephys_software': 'sglx',\n",
    "           'probe': 'probe_0', #probes of interest\n",
    "           'nidq_ttl_list': ['wav_ttl'], # list of TTL signals form the nidq digital inputs to extract (besides the 'sync')\n",
    "           'sort': 0, #label for this sort instance\n",
    "           }\n",
    "\n",
    "exp_struct = et.get_exp_struct(sess_par['bird'], sess_par['sess'], sort=sess_par['sort'])\n",
    "\n",
    "ksort_folder = exp_struct['folders']['ksort']\n",
    "raw_folder = exp_struct['folders']['sglx']"
   ]
  },
  {
   "cell_type": "markdown",
   "metadata": {},
   "source": [
    "list all the epochs in a session, to check that it is finding what it has to find"
   ]
  },
  {
   "cell_type": "code",
   "execution_count": 9,
   "metadata": {},
   "outputs": [
    {
     "name": "stderr",
     "output_type": "stream",
     "text": [
      "2024-06-19 02:40:43,602 ceciestunepipe.file.bcistructure INFO     {'folders': {'bird': '/net2/expData/speech_bci/raw_data/s_b1253_21', 'raw': '/net2/expData/speech_bci/raw_data/s_b1253_21/2021-06-10', 'sglx': '/net2/expData/speech_bci/raw_data/s_b1253_21/2021-06-10/sglx', 'kwik': '/experiment/s_b1253_21/sglx/kwik/2021-06-10', 'processed': '/net2/expData/speech_bci/processed_data/s_b1253_21/2021-06-10/sglx', 'derived': '/net2/expData/speech_bci/derived_data/s_b1253_21/2021-06-10/sglx', 'tmp': '/experiment/tmp/tmp', 'msort': '/experiment/tmp/s_b1253_21/sglx/msort/2021-06-10', 'ksort': '/experiment/tmp/s_b1253_21/sglx/ksort/2021-06-10/0', 'sort': '/net2/expData/speech_bci/derived_data/s_b1253_21/2021-06-10/sglx/0'}, 'files': {'par': '/experiment/tmp/s_b1253_21/sglx/ksort/2021-06-10/0/params.json', 'set': '/net2/expData/speech_bci/raw_data/s_b1253_21/2021-06-10/sglx/settings.isf', 'rig': '/net2/expData/speech_bci/raw_data/s_b1253_21/2021-06-10/sglx/rig.json', 'kwd': '/experiment/s_b1253_21/sglx/kwik/2021-06-10/stream.kwd', 'kwik': '/experiment/s_b1253_21/sglx/kwik/2021-06-10/sort_0/spikes.kwik', 'kwe': '/experiment/s_b1253_21/sglx/kwik/2021-06-10/events.kwe', 'dat_mic': '/net2/expData/speech_bci/processed_data/s_b1253_21/2021-06-10/sglx/dat_mic.mat', 'dat_ap': '/net2/expData/speech_bci/processed_data/s_b1253_21/2021-06-10/sglx/dat_ap.mat', 'allevents': '/net2/expData/speech_bci/processed_data/s_b1253_21/2021-06-10/sglx/dat_all.pkl', 'wav_mic': '/net2/expData/speech_bci/derived_data/s_b1253_21/2021-06-10/sglx/wav_mic.wav', 'mda_raw': '/experiment/tmp/s_b1253_21/sglx/msort/2021-06-10/raw.mda', 'bin_raw': '/experiment/tmp/s_b1253_21/sglx/ksort/2021-06-10/0/raw.bin'}}\n"
     ]
    },
    {
     "data": {
      "text/plain": [
       "['0700_g0', '0939_g0', '1356_g0']"
      ]
     },
     "execution_count": 9,
     "metadata": {},
     "output_type": "execute_result"
    }
   ],
   "source": [
    "sess_epochs = et.list_sgl_epochs(sess_par)\n",
    "sess_epochs"
   ]
  },
  {
   "cell_type": "markdown",
   "metadata": {},
   "source": [
    "#### define pre-processing steps for each epoch and for the session"
   ]
  },
  {
   "cell_type": "code",
   "execution_count": 11,
   "metadata": {
    "tags": []
   },
   "outputs": [
    {
     "name": "stderr",
     "output_type": "stream",
     "text": [
      "2024-06-19 02:41:35,198 ceciestunepipe.util.spikeextractors.preprocess INFO     PREPROCESSING sess 2021-06-10 | epoch 0700_g0\n",
      "2024-06-19 02:41:35,199 ceciestunepipe.util.spikeextractors.preprocess INFO     getting extractors\n",
      "2024-06-19 02:41:35,211 ceciestunepipe.util.spikeextractors.preprocess INFO     Got sglx recordings for keys ['nidq', 'lf_0', 'ap_0']\n",
      "2024-06-19 02:41:35,212 ceciestunepipe.util.spikeextractors.preprocess INFO     Getting microphone channel(s) ['microphone_0']\n",
      "2024-06-19 02:41:35,212 ceciestunepipe.util.wavutil INFO     sampling rate 20000\n",
      "2024-06-19 02:41:35,213 ceciestunepipe.util.wavutil INFO     saving (1, 189723200)-shaped array as wav in /net2/expData/speech_bci/derived_data/s_b1253_21/2021-06-10/sglx/0700_g0/wav_mic.wav\n",
      "2024-06-19 02:42:00,350 ceciestunepipe.util.wavutil INFO     saving (1, 189723200)-shaped array as npy in /net2/expData/speech_bci/derived_data/s_b1253_21/2021-06-10/sglx/0700_g0/wav_mic.npy\n",
      "2024-06-19 02:42:06,301 ceciestunepipe.util.spikeextractors.preprocess INFO     Getting stimulus channel(s) ['wav_stim', 'wav_syn']\n",
      "2024-06-19 02:42:06,301 ceciestunepipe.util.wavutil INFO     sampling rate 20000\n",
      "2024-06-19 02:42:06,302 ceciestunepipe.util.wavutil INFO     saving (2, 189723200)-shaped array as wav in /net2/expData/speech_bci/derived_data/s_b1253_21/2021-06-10/sglx/0700_g0/wav_stim.wav\n",
      "2024-06-19 02:42:14,951 ceciestunepipe.util.wavutil INFO     saving (2, 189723200)-shaped array as npy in /net2/expData/speech_bci/derived_data/s_b1253_21/2021-06-10/sglx/0700_g0/wav_stim.npy\n",
      "2024-06-19 02:42:26,929 ceciestunepipe.util.spikeextractors.preprocess INFO     Getting the onset/offset of stimuli from the 1 extracted analog channel\n",
      "2024-06-19 02:42:27,386 ceciestunepipe.util.stimutil INFO     found 1156.0 events\n",
      "2024-06-19 02:42:27,401 ceciestunepipe.util.spikeextractors.preprocess INFO     saved onset/offset of trial events from the sine wave in /net2/expData/speech_bci/derived_data/s_b1253_21/2021-06-10/sglx/0700_g0/wav_stim_sync_sine_ttl_evt.npy\n",
      "2024-06-19 02:42:27,402 ceciestunepipe.util.spikeextractors.preprocess INFO     Getting sync channel(s) from nidaq streams: ['sync']\n",
      "2024-06-19 02:42:27,402 ceciestunepipe.util.spikeextractors.extractors.spikeglxrecordingextractor.spikeglxrecordingextractor INFO     getting ttl traces, chan [0 1 2 3 4 5 6 7]\n",
      "2024-06-19 02:42:30,735 ceciestunepipe.util.wavutil INFO     sampling rate 20000\n",
      "2024-06-19 02:42:30,736 ceciestunepipe.util.wavutil INFO     saving (1, 189723200)-shaped array as wav in /net2/expData/speech_bci/derived_data/s_b1253_21/2021-06-10/sglx/0700_g0/wav_sync.wav\n",
      "2024-06-19 02:42:34,151 ceciestunepipe.util.wavutil INFO     saving (1, 189723200)-shaped array as npy in /net2/expData/speech_bci/derived_data/s_b1253_21/2021-06-10/sglx/0700_g0/wav_sync.npy\n",
      "2024-06-19 02:42:37,560 ceciestunepipe.util.spikeextractors.preprocess INFO     Getting sync events from the wav sync channel\n",
      "2024-06-19 02:42:37,922 ceciestunepipe.util.spikeextractors.preprocess INFO     saving sync events of the wav channel to /net2/expData/speech_bci/derived_data/s_b1253_21/2021-06-10/sglx/0700_g0/wav_sync_evt.npy\n",
      "2024-06-19 02:42:37,926 ceciestunepipe.util.spikeextractors.preprocess INFO     saving t0 for wav channel to /net2/expData/speech_bci/derived_data/s_b1253_21/2021-06-10/sglx/0700_g0/wav_t0.npy\n",
      "2024-06-19 02:42:52,207 ceciestunepipe.util.spikeextractors.preprocess INFO     Will get 1 ttl signals\n",
      "2024-06-19 02:42:52,208 ceciestunepipe.util.spikeextractors.preprocess INFO     looking for signal wav_ttl in the nidaq channels\n",
      "2024-06-19 02:42:52,208 ceciestunepipe.util.spikeextractors.preprocess INFO     found in chan 2\n",
      "2024-06-19 02:42:52,208 ceciestunepipe.util.spikeextractors.extractors.spikeglxrecordingextractor.spikeglxrecordingextractor INFO     getting ttl events, chan 2\n",
      "2024-06-19 02:42:53,892 ceciestunepipe.util.spikeextractors.preprocess INFO     saving (0, 2)-shaped array as npy in /net2/expData/speech_bci/derived_data/s_b1253_21/2021-06-10/sglx/0700_g0/wav_ttl_evt.npy\n",
      "2024-06-19 02:42:53,893 ceciestunepipe.util.spikeextractors.preprocess INFO     saving sync nidaq dict to /net2/expData/speech_bci/derived_data/s_b1253_21/2021-06-10/sglx/0700_g0/wav_sync_dict.pkl\n",
      "2024-06-19 02:42:53,895 ceciestunepipe.util.spikeextractors.preprocess INFO     Getting sync signals for imec streams: ['lf_0', 'ap_0']\n",
      "2024-06-19 02:42:53,895 ceciestunepipe.util.spikeextractors.preprocess INFO     getting syn patterns for lf_0\n",
      "2024-06-19 02:42:53,895 ceciestunepipe.util.spikeextractors.preprocess INFO     File /net2/expData/speech_bci/derived_data/s_b1253_21/2021-06-10/sglx/0700_g0/lf_0_sync_dict.pkl not found or forced computation, getting the events\n",
      "2024-06-19 02:42:53,896 ceciestunepipe.util.spikeextractors.extractors.spikeglxrecordingextractor.spikeglxrecordingextractor INFO     getting ttl events, chan 0\n",
      "2024-06-19 02:42:53,896 ceciestunepipe.util.spikeextractors.extractors.readSGLX INFO     Extracting digital on imec stream: there is only one channel, if any (SYN) and will be converted from an int16 channel \n",
      "2024-06-19 02:42:53,896 ceciestunepipe.util.spikeextractors.extractors.readSGLX INFO     allocated array for syn channel of size (23720789,)\n",
      "2024-06-19 02:45:41,339 ceciestunepipe.util.spikeextractors.extractors.readSGLX INFO     Threshold for logical hi is 0\n",
      "2024-06-19 02:45:41,623 ceciestunepipe.util.spikeextractors.preprocess INFO     saving events array to /net2/expData/speech_bci/derived_data/s_b1253_21/2021-06-10/sglx/0700_g0/lf_0_sync_evt.npy\n",
      "2024-06-19 02:45:41,629 ceciestunepipe.util.spikeextractors.preprocess INFO     saving t_0 array to /net2/expData/speech_bci/derived_data/s_b1253_21/2021-06-10/sglx/0700_g0/lf_0_t0.npy\n",
      "2024-06-19 02:45:43,326 ceciestunepipe.util.spikeextractors.preprocess INFO     saving sync dict to /net2/expData/speech_bci/derived_data/s_b1253_21/2021-06-10/sglx/0700_g0/lf_0_sync_dict.pkl\n",
      "2024-06-19 02:45:43,328 ceciestunepipe.util.spikeextractors.preprocess INFO     loading syn_dict from /net2/expData/speech_bci/derived_data/s_b1253_21/2021-06-10/sglx/0700_g0/lf_0_sync_dict.pkl\n",
      "2024-06-19 02:45:43,331 ceciestunepipe.util.spikeextractors.preprocess INFO     getting syn patterns for ap_0\n",
      "2024-06-19 02:45:43,331 ceciestunepipe.util.spikeextractors.preprocess INFO     File /net2/expData/speech_bci/derived_data/s_b1253_21/2021-06-10/sglx/0700_g0/ap_0_sync_dict.pkl not found or forced computation, getting the events\n",
      "2024-06-19 02:45:43,332 ceciestunepipe.util.spikeextractors.extractors.spikeglxrecordingextractor.spikeglxrecordingextractor INFO     getting ttl events, chan 0\n",
      "2024-06-19 02:45:43,332 ceciestunepipe.util.spikeextractors.extractors.readSGLX INFO     Extracting digital on imec stream: there is only one channel, if any (SYN) and will be converted from an int16 channel \n",
      "2024-06-19 02:45:43,333 ceciestunepipe.util.spikeextractors.extractors.readSGLX INFO     allocated array for syn channel of size (284649463,)\n",
      "2024-06-19 03:18:21,902 ceciestunepipe.util.spikeextractors.extractors.readSGLX INFO     Threshold for logical hi is 0\n",
      "2024-06-19 03:18:25,484 ceciestunepipe.util.spikeextractors.preprocess INFO     saving events array to /net2/expData/speech_bci/derived_data/s_b1253_21/2021-06-10/sglx/0700_g0/ap_0_sync_evt.npy\n",
      "2024-06-19 03:18:25,490 ceciestunepipe.util.spikeextractors.preprocess INFO     saving t_0 array to /net2/expData/speech_bci/derived_data/s_b1253_21/2021-06-10/sglx/0700_g0/ap_0_t0.npy\n",
      "2024-06-19 03:18:45,774 ceciestunepipe.util.spikeextractors.preprocess INFO     saving sync dict to /net2/expData/speech_bci/derived_data/s_b1253_21/2021-06-10/sglx/0700_g0/ap_0_sync_dict.pkl\n",
      "2024-06-19 03:18:45,775 ceciestunepipe.util.spikeextractors.preprocess INFO     loading syn_dict from /net2/expData/speech_bci/derived_data/s_b1253_21/2021-06-10/sglx/0700_g0/ap_0_sync_dict.pkl\n",
      "2024-06-19 03:18:45,778 ceciestunepipe.util.spikeextractors.preprocess INFO     getting syn patterns for nidq\n",
      "2024-06-19 03:18:45,779 ceciestunepipe.util.spikeextractors.preprocess INFO     File /net2/expData/speech_bci/derived_data/s_b1253_21/2021-06-10/sglx/0700_g0/nidq_sync_dict.pkl not found or forced computation, getting the events\n",
      "2024-06-19 03:18:45,779 ceciestunepipe.util.spikeextractors.extractors.spikeglxrecordingextractor.spikeglxrecordingextractor INFO     getting ttl events, chan 0\n",
      "2024-06-19 03:18:48,203 ceciestunepipe.util.spikeextractors.preprocess INFO     saving events array to /net2/expData/speech_bci/derived_data/s_b1253_21/2021-06-10/sglx/0700_g0/nidq_sync_evt.npy\n",
      "2024-06-19 03:18:48,208 ceciestunepipe.util.spikeextractors.preprocess INFO     saving t_0 array to /net2/expData/speech_bci/derived_data/s_b1253_21/2021-06-10/sglx/0700_g0/nidq_t0.npy\n",
      "2024-06-19 03:19:01,715 ceciestunepipe.util.spikeextractors.preprocess INFO     saving sync dict to /net2/expData/speech_bci/derived_data/s_b1253_21/2021-06-10/sglx/0700_g0/nidq_sync_dict.pkl\n",
      "2024-06-19 03:19:01,717 ceciestunepipe.util.spikeextractors.preprocess INFO     loading syn_dict from /net2/expData/speech_bci/derived_data/s_b1253_21/2021-06-10/sglx/0700_g0/nidq_sync_dict.pkl\n",
      "2024-06-19 03:19:01,720 ceciestunepipe.util.spikeextractors.preprocess INFO     getting syn patterns for wav\n",
      "2024-06-19 03:19:01,721 ceciestunepipe.util.spikeextractors.preprocess INFO     loading syn_dict from /net2/expData/speech_bci/derived_data/s_b1253_21/2021-06-10/sglx/0700_g0/wav_sync_dict.pkl\n",
      "2024-06-19 03:19:01,848 ceciestunepipe.util.spikeextractors.preprocess INFO     saved epoch preprocessing parameters to /net2/expData/speech_bci/derived_data/s_b1253_21/2021-06-10/sglx/0700_g0/preprocess_par.pickle\n"
     ]
    }
   ],
   "source": [
    "one_epoch_dict = pre.preprocess_run(sess_par, exp_struct, sess_epochs[0])"
   ]
  },
  {
   "cell_type": "markdown",
   "metadata": {
    "jp-MarkdownHeadingCollapsed": true
   },
   "source": [
    "## Process multiple sessions"
   ]
  },
  {
   "cell_type": "code",
   "execution_count": 13,
   "metadata": {
    "scrolled": true
   },
   "outputs": [],
   "source": [
    "### sequentially process all runs of the sessions\n",
    "def preprocess_session(sess_par: dict):\n",
    "    logger.info('pre-process all runs of sess ' + sess_par['sess'])\n",
    "    # get exp struct\n",
    "    sess_struct = et.get_exp_struct(sess_par['bird'], sess_par['sess'], sort=sess_par['sort'])\n",
    "    # list the epochs\n",
    "    sess_epochs = et.list_sgl_epochs(sess_par)\n",
    "    logger.info('found epochs: {}'.format(sess_epochs))\n",
    "    # preprocess all epochs\n",
    "    epoch_dict_list = []\n",
    "    for i_ep, epoch in enumerate(sess_epochs):\n",
    "        try:\n",
    "            exp_struct = et.sgl_struct(sess_par, epoch)\n",
    "            one_epoch_dict = pre.preprocess_run(sess_par, exp_struct, epoch)\n",
    "            epoch_dict_list.append(one_epoch_dict)\n",
    "        except Exception as exc:\n",
    "            warnings.warn('Error in epoch {}'.format(epoch), UserWarning)\n",
    "            logger.info(traceback.format_exc)\n",
    "            logger.info(exc)\n",
    "            logger.info('Session {} epoch {} could not be preprocessed'.format(sess_par['sess'], epoch))\n",
    "        \n",
    "    return epoch_dict_list\n",
    "\n",
    "#all_epoch_list = preprocess_session(sess_par)"
   ]
  },
  {
   "cell_type": "code",
   "execution_count": 10,
   "metadata": {
    "tags": []
   },
   "outputs": [],
   "source": [
    "sess_list = all_bird_sess\n",
    "# fist implant, right hemisphere\n",
    "sess_list = ['2021-06-24', '2021-06-25', '2021-06-26', '2021-06-27', '2021-06-28', '2021-06-29', '2021-06-30']"
   ]
  },
  {
   "cell_type": "code",
   "execution_count": null,
   "metadata": {
    "tags": []
   },
   "outputs": [
    {
     "name": "stderr",
     "output_type": "stream",
     "text": [
      "2023-08-25 19:14:08,940 root         INFO     pre-process all runs of sess 2021-06-24\n",
      "2023-08-25 19:14:08,941 ceciestunepipe.file.bcistructure INFO     {'folders': {'bird': '/net2/expData/speech_bci/raw_data/z_r12r13_21', 'raw': '/net2/expData/speech_bci/raw_data/z_r12r13_21/2021-06-24', 'sglx': '/net2/expData/speech_bci/raw_data/z_r12r13_21/2021-06-24/sglx', 'kwik': '/experiment/z_r12r13_21/sglx/kwik/2021-06-24', 'processed': '/net2/expData/speech_bci/processed_data/z_r12r13_21/2021-06-24/sglx', 'derived': '/net2/expData/speech_bci/derived_data/z_r12r13_21/2021-06-24/sglx', 'tmp': '/experiment/tmp/tmp', 'msort': '/experiment/tmp/z_r12r13_21/sglx/msort/2021-06-24', 'ksort': '/experiment/tmp/z_r12r13_21/sglx/ksort/2021-06-24/0', 'sort': '/net2/expData/speech_bci/derived_data/z_r12r13_21/2021-06-24/sglx/0'}, 'files': {'par': '/experiment/tmp/z_r12r13_21/sglx/ksort/2021-06-24/0/params.json', 'set': '/net2/expData/speech_bci/raw_data/z_r12r13_21/2021-06-24/sglx/settings.isf', 'rig': '/net2/expData/speech_bci/raw_data/z_r12r13_21/2021-06-24/sglx/rig.json', 'kwd': '/experiment/z_r12r13_21/sglx/kwik/2021-06-24/stream.kwd', 'kwik': '/experiment/z_r12r13_21/sglx/kwik/2021-06-24/sort_0/spikes.kwik', 'kwe': '/experiment/z_r12r13_21/sglx/kwik/2021-06-24/events.kwe', 'dat_mic': '/net2/expData/speech_bci/processed_data/z_r12r13_21/2021-06-24/sglx/dat_mic.mat', 'dat_ap': '/net2/expData/speech_bci/processed_data/z_r12r13_21/2021-06-24/sglx/dat_ap.mat', 'allevents': '/net2/expData/speech_bci/processed_data/z_r12r13_21/2021-06-24/sglx/dat_all.pkl', 'wav_mic': '/net2/expData/speech_bci/derived_data/z_r12r13_21/2021-06-24/sglx/wav_mic.wav', 'mda_raw': '/experiment/tmp/z_r12r13_21/sglx/msort/2021-06-24/raw.mda', 'bin_raw': '/experiment/tmp/z_r12r13_21/sglx/ksort/2021-06-24/0/raw.bin'}}\n",
      "2023-08-25 19:14:08,963 root         INFO     found epochs: ['1741_g0']\n",
      "2023-08-25 19:14:08,964 ceciestunepipe.util.spikeextractors.preprocess INFO     PREPROCESSING sess 2021-06-24 | epoch 1741_g0\n",
      "2023-08-25 19:14:08,966 ceciestunepipe.util.spikeextractors.preprocess INFO     getting extractors\n",
      "2023-08-25 19:14:09,076 ceciestunepipe.util.spikeextractors.preprocess INFO     Got sglx recordings for keys ['nidq', 'lf_0', 'ap_0']\n",
      "2023-08-25 19:14:09,077 ceciestunepipe.util.spikeextractors.preprocess INFO     Getting microphone channel(s) ['microphone_0']\n",
      "2023-08-25 19:14:09,078 ceciestunepipe.util.wavutil INFO     sampling rate 25000\n",
      "2023-08-25 19:14:09,079 ceciestunepipe.util.wavutil INFO     saving (1, 118362061)-shaped array as wav in /net2/expData/speech_bci/derived_data/z_r12r13_21/2021-06-24/sglx/1741_g0/wav_mic.wav\n",
      "2023-08-25 19:14:24,586 ceciestunepipe.util.wavutil INFO     saving (1, 118362061)-shaped array as npy in /net2/expData/speech_bci/derived_data/z_r12r13_21/2021-06-24/sglx/1741_g0/wav_mic.npy\n",
      "2023-08-25 19:14:30,162 ceciestunepipe.util.spikeextractors.preprocess INFO     Getting stimulus channel(s) ['wav_stim', 'wav_syn']\n",
      "2023-08-25 19:14:30,164 ceciestunepipe.util.wavutil INFO     sampling rate 25000\n",
      "2023-08-25 19:14:30,165 ceciestunepipe.util.wavutil INFO     saving (2, 118362061)-shaped array as wav in /net2/expData/speech_bci/derived_data/z_r12r13_21/2021-06-24/sglx/1741_g0/wav_stim.wav\n",
      "2023-08-25 19:14:36,143 ceciestunepipe.util.wavutil INFO     saving (2, 118362061)-shaped array as npy in /net2/expData/speech_bci/derived_data/z_r12r13_21/2021-06-24/sglx/1741_g0/wav_stim.npy\n",
      "2023-08-25 19:14:47,185 ceciestunepipe.util.spikeextractors.preprocess INFO     Getting the onset/offset of stimuli from the 1 extracted analog channel\n",
      "/home/jovyan/pablo_tostado/ceciestunepipe/ceciestunepipe/util/sound/spectral.py:87: DeprecationWarning: Importing gaussian from 'scipy.signal' is deprecated and will raise an error in SciPy 1.13.0. Please use 'scipy.signal.windows.gaussian' or the convenience function 'scipy.signal.get_window' instead.\n",
      "  window=signal.gaussian(n_window, sigma),\n",
      "2023-08-25 19:14:47,796 ceciestunepipe.util.stimutil INFO     found 591.0 events\n",
      "2023-08-25 19:14:47,809 ceciestunepipe.util.spikeextractors.preprocess INFO     saved onset/offset of trial events from the sine wave in /net2/expData/speech_bci/derived_data/z_r12r13_21/2021-06-24/sglx/1741_g0/wav_stim_sync_sine_ttl_evt.npy\n",
      "2023-08-25 19:14:47,810 ceciestunepipe.util.spikeextractors.preprocess INFO     Getting sync channel(s) from nidaq streams: ['sync']\n",
      "2023-08-25 19:14:47,811 ceciestunepipe.util.spikeextractors.extractors.spikeglxrecordingextractor.spikeglxrecordingextractor INFO     getting ttl traces, chan [0 1 2 3 4 5 6 7]\n",
      "2023-08-25 19:14:51,951 ceciestunepipe.util.wavutil INFO     sampling rate 25000\n",
      "2023-08-25 19:14:51,952 ceciestunepipe.util.wavutil INFO     saving (1, 118362061)-shaped array as wav in /net2/expData/speech_bci/derived_data/z_r12r13_21/2021-06-24/sglx/1741_g0/wav_sync.wav\n",
      "2023-08-25 19:14:54,145 ceciestunepipe.util.wavutil INFO     saving (1, 118362061)-shaped array as npy in /net2/expData/speech_bci/derived_data/z_r12r13_21/2021-06-24/sglx/1741_g0/wav_sync.npy\n",
      "2023-08-25 19:14:56,393 ceciestunepipe.util.spikeextractors.preprocess INFO     Getting sync events from the wav sync channel\n",
      "2023-08-25 19:14:56,904 ceciestunepipe.util.spikeextractors.preprocess INFO     saving sync events of the wav channel to /net2/expData/speech_bci/derived_data/z_r12r13_21/2021-06-24/sglx/1741_g0/wav_sync_evt.npy\n",
      "2023-08-25 19:14:56,909 ceciestunepipe.util.spikeextractors.preprocess INFO     saving t0 for wav channel to /net2/expData/speech_bci/derived_data/z_r12r13_21/2021-06-24/sglx/1741_g0/wav_t0.npy\n",
      "2023-08-25 19:15:07,320 ceciestunepipe.util.spikeextractors.preprocess INFO     Will get 1 ttl signals\n",
      "2023-08-25 19:15:07,321 ceciestunepipe.util.spikeextractors.preprocess INFO     looking for signal wav_ttl in the nidaq channels\n",
      "2023-08-25 19:15:07,322 ceciestunepipe.util.spikeextractors.preprocess INFO     found in chan 2\n",
      "2023-08-25 19:15:07,324 ceciestunepipe.util.spikeextractors.extractors.spikeglxrecordingextractor.spikeglxrecordingextractor INFO     getting ttl events, chan 2\n",
      "2023-08-25 19:15:09,411 ceciestunepipe.util.spikeextractors.preprocess INFO     saving (0, 2)-shaped array as npy in /net2/expData/speech_bci/derived_data/z_r12r13_21/2021-06-24/sglx/1741_g0/wav_ttl_evt.npy\n",
      "2023-08-25 19:15:09,413 ceciestunepipe.util.spikeextractors.preprocess INFO     saving sync nidaq dict to /net2/expData/speech_bci/derived_data/z_r12r13_21/2021-06-24/sglx/1741_g0/wav_sync_dict.pkl\n",
      "2023-08-25 19:15:09,415 ceciestunepipe.util.spikeextractors.preprocess INFO     Getting sync signals for imec streams: ['lf_0', 'ap_0']\n",
      "2023-08-25 19:15:09,416 ceciestunepipe.util.spikeextractors.preprocess INFO     getting syn patterns for lf_0\n",
      "2023-08-25 19:15:09,417 ceciestunepipe.util.spikeextractors.preprocess INFO     File /net2/expData/speech_bci/derived_data/z_r12r13_21/2021-06-24/sglx/1741_g0/lf_0_sync_dict.pkl not found or forced computation, getting the events\n",
      "2023-08-25 19:15:09,418 ceciestunepipe.util.spikeextractors.extractors.spikeglxrecordingextractor.spikeglxrecordingextractor INFO     getting ttl events, chan 0\n",
      "2023-08-25 19:15:09,419 ceciestunepipe.util.spikeextractors.extractors.readSGLX INFO     Extracting digital on imec stream: there is only one channel, if any (SYN) and will be converted from an int16 channel \n",
      "2023-08-25 19:15:09,420 ceciestunepipe.util.spikeextractors.extractors.readSGLX INFO     allocated array for syn channel of size (11836366,)\n",
      "2023-08-25 19:16:32,318 ceciestunepipe.util.spikeextractors.extractors.readSGLX INFO     Threshold for logical hi is 0\n",
      "2023-08-25 19:16:32,557 ceciestunepipe.util.spikeextractors.preprocess INFO     saving events array to /net2/expData/speech_bci/derived_data/z_r12r13_21/2021-06-24/sglx/1741_g0/lf_0_sync_evt.npy\n",
      "2023-08-25 19:16:32,563 ceciestunepipe.util.spikeextractors.preprocess INFO     saving t_0 array to /net2/expData/speech_bci/derived_data/z_r12r13_21/2021-06-24/sglx/1741_g0/lf_0_t0.npy\n",
      "2023-08-25 19:16:33,441 ceciestunepipe.util.spikeextractors.preprocess INFO     saving sync dict to /net2/expData/speech_bci/derived_data/z_r12r13_21/2021-06-24/sglx/1741_g0/lf_0_sync_dict.pkl\n",
      "2023-08-25 19:16:33,443 ceciestunepipe.util.spikeextractors.preprocess INFO     loading syn_dict from /net2/expData/speech_bci/derived_data/z_r12r13_21/2021-06-24/sglx/1741_g0/lf_0_sync_dict.pkl\n",
      "2023-08-25 19:16:33,450 ceciestunepipe.util.spikeextractors.preprocess INFO     getting syn patterns for ap_0\n",
      "2023-08-25 19:16:33,452 ceciestunepipe.util.spikeextractors.preprocess INFO     File /net2/expData/speech_bci/derived_data/z_r12r13_21/2021-06-24/sglx/1741_g0/ap_0_sync_dict.pkl not found or forced computation, getting the events\n",
      "2023-08-25 19:16:33,453 ceciestunepipe.util.spikeextractors.extractors.spikeglxrecordingextractor.spikeglxrecordingextractor INFO     getting ttl events, chan 0\n",
      "2023-08-25 19:16:33,454 ceciestunepipe.util.spikeextractors.extractors.readSGLX INFO     Extracting digital on imec stream: there is only one channel, if any (SYN) and will be converted from an int16 channel \n",
      "2023-08-25 19:16:33,456 ceciestunepipe.util.spikeextractors.extractors.readSGLX INFO     allocated array for syn channel of size (142036386,)\n",
      "2023-08-25 19:36:28,977 ceciestunepipe.util.spikeextractors.extractors.readSGLX INFO     Threshold for logical hi is 0\n",
      "2023-08-25 19:36:32,796 ceciestunepipe.util.spikeextractors.preprocess INFO     saving events array to /net2/expData/speech_bci/derived_data/z_r12r13_21/2021-06-24/sglx/1741_g0/ap_0_sync_evt.npy\n",
      "2023-08-25 19:36:32,802 ceciestunepipe.util.spikeextractors.preprocess INFO     saving t_0 array to /net2/expData/speech_bci/derived_data/z_r12r13_21/2021-06-24/sglx/1741_g0/ap_0_t0.npy\n",
      "2023-08-25 19:36:50,182 ceciestunepipe.util.spikeextractors.preprocess INFO     saving sync dict to /net2/expData/speech_bci/derived_data/z_r12r13_21/2021-06-24/sglx/1741_g0/ap_0_sync_dict.pkl\n",
      "2023-08-25 19:36:50,246 ceciestunepipe.util.spikeextractors.preprocess INFO     loading syn_dict from /net2/expData/speech_bci/derived_data/z_r12r13_21/2021-06-24/sglx/1741_g0/ap_0_sync_dict.pkl\n",
      "2023-08-25 19:36:50,512 ceciestunepipe.util.spikeextractors.preprocess INFO     getting syn patterns for nidq\n",
      "2023-08-25 19:36:50,543 ceciestunepipe.util.spikeextractors.preprocess INFO     File /net2/expData/speech_bci/derived_data/z_r12r13_21/2021-06-24/sglx/1741_g0/nidq_sync_dict.pkl not found or forced computation, getting the events\n",
      "2023-08-25 19:36:50,545 ceciestunepipe.util.spikeextractors.extractors.spikeglxrecordingextractor.spikeglxrecordingextractor INFO     getting ttl events, chan 0\n",
      "2023-08-25 19:37:32,937 ceciestunepipe.util.spikeextractors.preprocess INFO     saving events array to /net2/expData/speech_bci/derived_data/z_r12r13_21/2021-06-24/sglx/1741_g0/nidq_sync_evt.npy\n",
      "2023-08-25 19:37:32,952 ceciestunepipe.util.spikeextractors.preprocess INFO     saving t_0 array to /net2/expData/speech_bci/derived_data/z_r12r13_21/2021-06-24/sglx/1741_g0/nidq_t0.npy\n",
      "2023-08-25 19:37:41,678 ceciestunepipe.util.spikeextractors.preprocess INFO     saving sync dict to /net2/expData/speech_bci/derived_data/z_r12r13_21/2021-06-24/sglx/1741_g0/nidq_sync_dict.pkl\n",
      "2023-08-25 19:37:41,683 ceciestunepipe.util.spikeextractors.preprocess INFO     loading syn_dict from /net2/expData/speech_bci/derived_data/z_r12r13_21/2021-06-24/sglx/1741_g0/nidq_sync_dict.pkl\n",
      "2023-08-25 19:37:41,701 ceciestunepipe.util.spikeextractors.preprocess INFO     getting syn patterns for wav\n",
      "2023-08-25 19:37:41,703 ceciestunepipe.util.spikeextractors.preprocess INFO     loading syn_dict from /net2/expData/speech_bci/derived_data/z_r12r13_21/2021-06-24/sglx/1741_g0/wav_sync_dict.pkl\n",
      "2023-08-25 19:37:41,782 ceciestunepipe.util.spikeextractors.preprocess INFO     saved epoch preprocessing parameters to /net2/expData/speech_bci/derived_data/z_r12r13_21/2021-06-24/sglx/1741_g0/preprocess_par.pickle\n",
      "2023-08-25 19:37:42,492 root         INFO     pre-process all runs of sess 2021-06-25\n",
      "2023-08-25 19:37:42,493 ceciestunepipe.file.bcistructure INFO     {'folders': {'bird': '/net2/expData/speech_bci/raw_data/z_r12r13_21', 'raw': '/net2/expData/speech_bci/raw_data/z_r12r13_21/2021-06-25', 'sglx': '/net2/expData/speech_bci/raw_data/z_r12r13_21/2021-06-25/sglx', 'kwik': '/experiment/z_r12r13_21/sglx/kwik/2021-06-25', 'processed': '/net2/expData/speech_bci/processed_data/z_r12r13_21/2021-06-25/sglx', 'derived': '/net2/expData/speech_bci/derived_data/z_r12r13_21/2021-06-25/sglx', 'tmp': '/experiment/tmp/tmp', 'msort': '/experiment/tmp/z_r12r13_21/sglx/msort/2021-06-25', 'ksort': '/experiment/tmp/z_r12r13_21/sglx/ksort/2021-06-25/0', 'sort': '/net2/expData/speech_bci/derived_data/z_r12r13_21/2021-06-25/sglx/0'}, 'files': {'par': '/experiment/tmp/z_r12r13_21/sglx/ksort/2021-06-25/0/params.json', 'set': '/net2/expData/speech_bci/raw_data/z_r12r13_21/2021-06-25/sglx/settings.isf', 'rig': '/net2/expData/speech_bci/raw_data/z_r12r13_21/2021-06-25/sglx/rig.json', 'kwd': '/experiment/z_r12r13_21/sglx/kwik/2021-06-25/stream.kwd', 'kwik': '/experiment/z_r12r13_21/sglx/kwik/2021-06-25/sort_0/spikes.kwik', 'kwe': '/experiment/z_r12r13_21/sglx/kwik/2021-06-25/events.kwe', 'dat_mic': '/net2/expData/speech_bci/processed_data/z_r12r13_21/2021-06-25/sglx/dat_mic.mat', 'dat_ap': '/net2/expData/speech_bci/processed_data/z_r12r13_21/2021-06-25/sglx/dat_ap.mat', 'allevents': '/net2/expData/speech_bci/processed_data/z_r12r13_21/2021-06-25/sglx/dat_all.pkl', 'wav_mic': '/net2/expData/speech_bci/derived_data/z_r12r13_21/2021-06-25/sglx/wav_mic.wav', 'mda_raw': '/experiment/tmp/z_r12r13_21/sglx/msort/2021-06-25/raw.mda', 'bin_raw': '/experiment/tmp/z_r12r13_21/sglx/ksort/2021-06-25/0/raw.bin'}}\n",
      "2023-08-25 19:37:42,534 root         INFO     found epochs: ['0838_g0', '1039_g0', '1348_g0', '1416_g0', '1535_g0']\n",
      "2023-08-25 19:37:42,535 ceciestunepipe.util.spikeextractors.preprocess INFO     PREPROCESSING sess 2021-06-25 | epoch 0838_g0\n",
      "2023-08-25 19:37:42,536 ceciestunepipe.util.spikeextractors.preprocess INFO     getting extractors\n",
      "2023-08-25 19:37:42,855 ceciestunepipe.util.spikeextractors.preprocess INFO     Got sglx recordings for keys ['nidq', 'lf_0', 'ap_0']\n",
      "2023-08-25 19:37:42,856 ceciestunepipe.util.spikeextractors.preprocess INFO     Getting microphone channel(s) ['microphone_0']\n",
      "2023-08-25 19:37:42,857 ceciestunepipe.util.wavutil INFO     sampling rate 25000\n",
      "2023-08-25 19:37:42,858 ceciestunepipe.util.wavutil INFO     saving (1, 177916826)-shaped array as wav in /net2/expData/speech_bci/derived_data/z_r12r13_21/2021-06-25/sglx/0838_g0/wav_mic.wav\n",
      "2023-08-25 19:38:22,750 ceciestunepipe.util.wavutil INFO     saving (1, 177916826)-shaped array as npy in /net2/expData/speech_bci/derived_data/z_r12r13_21/2021-06-25/sglx/0838_g0/wav_mic.npy\n",
      "2023-08-25 19:38:31,972 ceciestunepipe.util.spikeextractors.preprocess INFO     Getting stimulus channel(s) ['wav_stim', 'wav_syn']\n",
      "2023-08-25 19:38:31,974 ceciestunepipe.util.wavutil INFO     sampling rate 25000\n",
      "2023-08-25 19:38:31,975 ceciestunepipe.util.wavutil INFO     saving (2, 177916826)-shaped array as wav in /net2/expData/speech_bci/derived_data/z_r12r13_21/2021-06-25/sglx/0838_g0/wav_stim.wav\n",
      "2023-08-25 19:38:40,748 ceciestunepipe.util.wavutil INFO     saving (2, 177916826)-shaped array as npy in /net2/expData/speech_bci/derived_data/z_r12r13_21/2021-06-25/sglx/0838_g0/wav_stim.npy\n",
      "2023-08-25 19:38:59,400 ceciestunepipe.util.spikeextractors.preprocess INFO     Getting the onset/offset of stimuli from the 1 extracted analog channel\n",
      "/home/jovyan/pablo_tostado/ceciestunepipe/ceciestunepipe/util/sound/spectral.py:87: DeprecationWarning: Importing gaussian from 'scipy.signal' is deprecated and will raise an error in SciPy 1.13.0. Please use 'scipy.signal.windows.gaussian' or the convenience function 'scipy.signal.get_window' instead.\n",
      "  window=signal.gaussian(n_window, sigma),\n",
      "/tmp/ipykernel_591/1615412182.py:17: UserWarning: Error in epoch 0838_g0\n",
      "  warnings.warn('Error in epoch {}'.format(epoch), UserWarning)\n",
      "2023-08-25 19:39:00,145 root         INFO     <function format_exc at 0x7f55f7c9bb50>\n",
      "2023-08-25 19:39:00,145 root         INFO     all the input array dimensions except for the concatenation axis must match exactly, but along dimension 1, the array at index 0 has size 9479 and the array at index 1 has size 9478\n",
      "2023-08-25 19:39:00,146 root         INFO     Session 2021-06-25 epoch 0838_g0 could not be preprocessed\n",
      "2023-08-25 19:39:00,199 ceciestunepipe.util.spikeextractors.preprocess INFO     PREPROCESSING sess 2021-06-25 | epoch 1039_g0\n",
      "2023-08-25 19:39:00,200 ceciestunepipe.util.spikeextractors.preprocess INFO     getting extractors\n",
      "2023-08-25 19:39:00,348 ceciestunepipe.util.spikeextractors.preprocess INFO     Got sglx recordings for keys ['nidq', 'lf_0', 'ap_0']\n",
      "2023-08-25 19:39:00,349 ceciestunepipe.util.spikeextractors.preprocess INFO     Getting microphone channel(s) ['microphone_0']\n",
      "2023-08-25 19:39:00,350 ceciestunepipe.util.wavutil INFO     sampling rate 25000\n",
      "2023-08-25 19:39:00,351 ceciestunepipe.util.wavutil INFO     saving (1, 99970150)-shaped array as wav in /net2/expData/speech_bci/derived_data/z_r12r13_21/2021-06-25/sglx/1039_g0/wav_mic.wav\n",
      "2023-08-25 19:39:24,088 ceciestunepipe.util.wavutil INFO     saving (1, 99970150)-shaped array as npy in /net2/expData/speech_bci/derived_data/z_r12r13_21/2021-06-25/sglx/1039_g0/wav_mic.npy\n",
      "2023-08-25 19:39:29,053 ceciestunepipe.util.spikeextractors.preprocess INFO     Getting stimulus channel(s) ['wav_stim', 'wav_syn']\n",
      "2023-08-25 19:39:29,055 ceciestunepipe.util.wavutil INFO     sampling rate 25000\n",
      "2023-08-25 19:39:29,056 ceciestunepipe.util.wavutil INFO     saving (2, 99970150)-shaped array as wav in /net2/expData/speech_bci/derived_data/z_r12r13_21/2021-06-25/sglx/1039_g0/wav_stim.wav\n",
      "2023-08-25 19:39:37,236 ceciestunepipe.util.wavutil INFO     saving (2, 99970150)-shaped array as npy in /net2/expData/speech_bci/derived_data/z_r12r13_21/2021-06-25/sglx/1039_g0/wav_stim.npy\n",
      "2023-08-25 19:39:47,517 ceciestunepipe.util.spikeextractors.preprocess INFO     Getting the onset/offset of stimuli from the 1 extracted analog channel\n",
      "/home/jovyan/pablo_tostado/ceciestunepipe/ceciestunepipe/util/sound/spectral.py:87: DeprecationWarning: Importing gaussian from 'scipy.signal' is deprecated and will raise an error in SciPy 1.13.0. Please use 'scipy.signal.windows.gaussian' or the convenience function 'scipy.signal.get_window' instead.\n",
      "  window=signal.gaussian(n_window, sigma),\n",
      "/tmp/ipykernel_591/1615412182.py:17: UserWarning: Error in epoch 1039_g0\n",
      "  warnings.warn('Error in epoch {}'.format(epoch), UserWarning)\n",
      "2023-08-25 19:39:47,940 root         INFO     <function format_exc at 0x7f55f7c9bb50>\n",
      "2023-08-25 19:39:47,941 root         INFO     all the input array dimensions except for the concatenation axis must match exactly, but along dimension 1, the array at index 0 has size 2887 and the array at index 1 has size 2886\n",
      "2023-08-25 19:39:47,942 root         INFO     Session 2021-06-25 epoch 1039_g0 could not be preprocessed\n",
      "2023-08-25 19:39:47,982 ceciestunepipe.util.spikeextractors.preprocess INFO     PREPROCESSING sess 2021-06-25 | epoch 1348_g0\n",
      "2023-08-25 19:39:47,983 ceciestunepipe.util.spikeextractors.preprocess INFO     getting extractors\n",
      "2023-08-25 19:39:48,045 ceciestunepipe.util.spikeextractors.preprocess INFO     Got sglx recordings for keys ['nidq', 'lf_0', 'ap_0']\n",
      "2023-08-25 19:39:48,046 ceciestunepipe.util.spikeextractors.preprocess INFO     Getting microphone channel(s) ['microphone_0']\n",
      "2023-08-25 19:39:48,047 ceciestunepipe.util.wavutil INFO     sampling rate 25000\n",
      "2023-08-25 19:39:48,048 ceciestunepipe.util.wavutil INFO     saving (1, 15927552)-shaped array as wav in /net2/expData/speech_bci/derived_data/z_r12r13_21/2021-06-25/sglx/1348_g0/wav_mic.wav\n",
      "2023-08-25 19:39:50,186 ceciestunepipe.util.wavutil INFO     saving (1, 15927552)-shaped array as npy in /net2/expData/speech_bci/derived_data/z_r12r13_21/2021-06-25/sglx/1348_g0/wav_mic.npy\n",
      "2023-08-25 19:39:50,985 ceciestunepipe.util.spikeextractors.preprocess INFO     Getting stimulus channel(s) ['wav_stim', 'wav_syn']\n",
      "2023-08-25 19:39:50,987 ceciestunepipe.util.wavutil INFO     sampling rate 25000\n",
      "2023-08-25 19:39:50,988 ceciestunepipe.util.wavutil INFO     saving (2, 15927552)-shaped array as wav in /net2/expData/speech_bci/derived_data/z_r12r13_21/2021-06-25/sglx/1348_g0/wav_stim.wav\n",
      "2023-08-25 19:39:51,986 ceciestunepipe.util.wavutil INFO     saving (2, 15927552)-shaped array as npy in /net2/expData/speech_bci/derived_data/z_r12r13_21/2021-06-25/sglx/1348_g0/wav_stim.npy\n",
      "2023-08-25 19:39:54,383 ceciestunepipe.util.spikeextractors.preprocess INFO     Getting the onset/offset of stimuli from the 1 extracted analog channel\n",
      "/home/jovyan/pablo_tostado/ceciestunepipe/ceciestunepipe/util/sound/spectral.py:87: DeprecationWarning: Importing gaussian from 'scipy.signal' is deprecated and will raise an error in SciPy 1.13.0. Please use 'scipy.signal.windows.gaussian' or the convenience function 'scipy.signal.get_window' instead.\n",
      "  window=signal.gaussian(n_window, sigma),\n",
      "2023-08-25 19:39:54,465 ceciestunepipe.util.stimutil INFO     found 411.0 events\n",
      "2023-08-25 19:39:54,783 ceciestunepipe.util.spikeextractors.preprocess INFO     saved onset/offset of trial events from the sine wave in /net2/expData/speech_bci/derived_data/z_r12r13_21/2021-06-25/sglx/1348_g0/wav_stim_sync_sine_ttl_evt.npy\n",
      "2023-08-25 19:39:54,784 ceciestunepipe.util.spikeextractors.preprocess INFO     Getting sync channel(s) from nidaq streams: ['sync']\n",
      "2023-08-25 19:39:54,786 ceciestunepipe.util.spikeextractors.extractors.spikeglxrecordingextractor.spikeglxrecordingextractor INFO     getting ttl traces, chan [0 1 2 3 4 5 6 7]\n",
      "2023-08-25 19:39:55,268 ceciestunepipe.util.wavutil INFO     sampling rate 25000\n",
      "2023-08-25 19:39:55,269 ceciestunepipe.util.wavutil INFO     saving (1, 15927552)-shaped array as wav in /net2/expData/speech_bci/derived_data/z_r12r13_21/2021-06-25/sglx/1348_g0/wav_sync.wav\n",
      "2023-08-25 19:39:55,979 ceciestunepipe.util.wavutil INFO     saving (1, 15927552)-shaped array as npy in /net2/expData/speech_bci/derived_data/z_r12r13_21/2021-06-25/sglx/1348_g0/wav_sync.npy\n",
      "2023-08-25 19:39:56,699 ceciestunepipe.util.spikeextractors.preprocess INFO     Getting sync events from the wav sync channel\n",
      "2023-08-25 19:39:56,840 ceciestunepipe.util.spikeextractors.preprocess INFO     saving sync events of the wav channel to /net2/expData/speech_bci/derived_data/z_r12r13_21/2021-06-25/sglx/1348_g0/wav_sync_evt.npy\n",
      "2023-08-25 19:39:56,946 ceciestunepipe.util.spikeextractors.preprocess INFO     saving t0 for wav channel to /net2/expData/speech_bci/derived_data/z_r12r13_21/2021-06-25/sglx/1348_g0/wav_t0.npy\n",
      "2023-08-25 19:39:59,507 ceciestunepipe.util.spikeextractors.preprocess INFO     Will get 1 ttl signals\n",
      "2023-08-25 19:39:59,508 ceciestunepipe.util.spikeextractors.preprocess INFO     looking for signal wav_ttl in the nidaq channels\n",
      "2023-08-25 19:39:59,509 ceciestunepipe.util.spikeextractors.preprocess INFO     found in chan 2\n",
      "2023-08-25 19:39:59,510 ceciestunepipe.util.spikeextractors.extractors.spikeglxrecordingextractor.spikeglxrecordingextractor INFO     getting ttl events, chan 2\n",
      "2023-08-25 19:39:59,761 ceciestunepipe.util.spikeextractors.preprocess INFO     saving (0, 2)-shaped array as npy in /net2/expData/speech_bci/derived_data/z_r12r13_21/2021-06-25/sglx/1348_g0/wav_ttl_evt.npy\n",
      "2023-08-25 19:39:59,841 ceciestunepipe.util.spikeextractors.preprocess INFO     saving sync nidaq dict to /net2/expData/speech_bci/derived_data/z_r12r13_21/2021-06-25/sglx/1348_g0/wav_sync_dict.pkl\n",
      "2023-08-25 19:39:59,918 ceciestunepipe.util.spikeextractors.preprocess INFO     Getting sync signals for imec streams: ['lf_0', 'ap_0']\n",
      "2023-08-25 19:39:59,919 ceciestunepipe.util.spikeextractors.preprocess INFO     getting syn patterns for lf_0\n",
      "2023-08-25 19:39:59,953 ceciestunepipe.util.spikeextractors.preprocess INFO     File /net2/expData/speech_bci/derived_data/z_r12r13_21/2021-06-25/sglx/1348_g0/lf_0_sync_dict.pkl not found or forced computation, getting the events\n",
      "2023-08-25 19:39:59,954 ceciestunepipe.util.spikeextractors.extractors.spikeglxrecordingextractor.spikeglxrecordingextractor INFO     getting ttl events, chan 0\n",
      "2023-08-25 19:39:59,955 ceciestunepipe.util.spikeextractors.extractors.readSGLX INFO     Extracting digital on imec stream: there is only one channel, if any (SYN) and will be converted from an int16 channel \n",
      "2023-08-25 19:39:59,958 ceciestunepipe.util.spikeextractors.extractors.readSGLX INFO     allocated array for syn channel of size (1916107,)\n",
      "2023-08-25 19:40:41,005 ceciestunepipe.util.spikeextractors.extractors.readSGLX INFO     Threshold for logical hi is 0\n",
      "/home/jovyan/pablo_tostado/ceciestunepipe/ceciestunepipe/util/spikeextractors/extractors/spikeglxrecordingextractor/readSGLX.py:310: UserWarning: There were 1295434 errors in the recording\n",
      "  warnings.warn('There were {} errors in the recording'.format(n_errors))\n",
      "/home/jovyan/pablo_tostado/ceciestunepipe/ceciestunepipe/util/spikeextractors/extractors/spikeglxrecordingextractor/readSGLX.py:311: UserWarning: You probably want to check those\n",
      "  warnings.warn('You probably want to check those')\n",
      "2023-08-25 19:40:41,065 ceciestunepipe.util.spikeextractors.preprocess INFO     saving events array to /net2/expData/speech_bci/derived_data/z_r12r13_21/2021-06-25/sglx/1348_g0/lf_0_sync_evt.npy\n",
      "2023-08-25 19:40:41,069 ceciestunepipe.util.spikeextractors.preprocess INFO     saving t_0 array to /net2/expData/speech_bci/derived_data/z_r12r13_21/2021-06-25/sglx/1348_g0/lf_0_t0.npy\n",
      "2023-08-25 19:40:41,218 ceciestunepipe.util.spikeextractors.preprocess INFO     saving sync dict to /net2/expData/speech_bci/derived_data/z_r12r13_21/2021-06-25/sglx/1348_g0/lf_0_sync_dict.pkl\n",
      "2023-08-25 19:40:41,220 ceciestunepipe.util.spikeextractors.preprocess INFO     loading syn_dict from /net2/expData/speech_bci/derived_data/z_r12r13_21/2021-06-25/sglx/1348_g0/lf_0_sync_dict.pkl\n",
      "2023-08-25 19:40:41,225 ceciestunepipe.util.spikeextractors.preprocess INFO     getting syn patterns for ap_0\n",
      "2023-08-25 19:40:41,227 ceciestunepipe.util.spikeextractors.preprocess INFO     File /net2/expData/speech_bci/derived_data/z_r12r13_21/2021-06-25/sglx/1348_g0/ap_0_sync_dict.pkl not found or forced computation, getting the events\n",
      "2023-08-25 19:40:41,228 ceciestunepipe.util.spikeextractors.extractors.spikeglxrecordingextractor.spikeglxrecordingextractor INFO     getting ttl events, chan 0\n",
      "2023-08-25 19:40:41,229 ceciestunepipe.util.spikeextractors.extractors.readSGLX INFO     Extracting digital on imec stream: there is only one channel, if any (SYN) and will be converted from an int16 channel \n",
      "2023-08-25 19:40:41,232 ceciestunepipe.util.spikeextractors.extractors.readSGLX INFO     allocated array for syn channel of size (22993283,)\n",
      "2023-08-25 19:44:49,609 ceciestunepipe.util.spikeextractors.extractors.readSGLX INFO     Threshold for logical hi is 0\n",
      "/home/jovyan/pablo_tostado/ceciestunepipe/ceciestunepipe/util/spikeextractors/extractors/spikeglxrecordingextractor/readSGLX.py:310: UserWarning: There were 15545224 errors in the recording\n",
      "  warnings.warn('There were {} errors in the recording'.format(n_errors))\n",
      "/home/jovyan/pablo_tostado/ceciestunepipe/ceciestunepipe/util/spikeextractors/extractors/spikeglxrecordingextractor/readSGLX.py:311: UserWarning: You probably want to check those\n",
      "  warnings.warn('You probably want to check those')\n",
      "2023-08-25 19:44:50,222 ceciestunepipe.util.spikeextractors.preprocess INFO     saving events array to /net2/expData/speech_bci/derived_data/z_r12r13_21/2021-06-25/sglx/1348_g0/ap_0_sync_evt.npy\n",
      "2023-08-25 19:44:50,226 ceciestunepipe.util.spikeextractors.preprocess INFO     saving t_0 array to /net2/expData/speech_bci/derived_data/z_r12r13_21/2021-06-25/sglx/1348_g0/ap_0_t0.npy\n",
      "2023-08-25 19:44:51,932 ceciestunepipe.util.spikeextractors.preprocess INFO     saving sync dict to /net2/expData/speech_bci/derived_data/z_r12r13_21/2021-06-25/sglx/1348_g0/ap_0_sync_dict.pkl\n",
      "2023-08-25 19:44:51,934 ceciestunepipe.util.spikeextractors.preprocess INFO     loading syn_dict from /net2/expData/speech_bci/derived_data/z_r12r13_21/2021-06-25/sglx/1348_g0/ap_0_sync_dict.pkl\n",
      "2023-08-25 19:44:51,941 ceciestunepipe.util.spikeextractors.preprocess INFO     getting syn patterns for nidq\n",
      "2023-08-25 19:44:51,943 ceciestunepipe.util.spikeextractors.preprocess INFO     File /net2/expData/speech_bci/derived_data/z_r12r13_21/2021-06-25/sglx/1348_g0/nidq_sync_dict.pkl not found or forced computation, getting the events\n",
      "2023-08-25 19:44:51,944 ceciestunepipe.util.spikeextractors.extractors.spikeglxrecordingextractor.spikeglxrecordingextractor INFO     getting ttl events, chan 0\n",
      "2023-08-25 19:44:52,547 ceciestunepipe.util.spikeextractors.preprocess INFO     saving events array to /net2/expData/speech_bci/derived_data/z_r12r13_21/2021-06-25/sglx/1348_g0/nidq_sync_evt.npy\n",
      "2023-08-25 19:44:52,550 ceciestunepipe.util.spikeextractors.preprocess INFO     saving t_0 array to /net2/expData/speech_bci/derived_data/z_r12r13_21/2021-06-25/sglx/1348_g0/nidq_t0.npy\n",
      "2023-08-25 19:44:53,738 ceciestunepipe.util.spikeextractors.preprocess INFO     saving sync dict to /net2/expData/speech_bci/derived_data/z_r12r13_21/2021-06-25/sglx/1348_g0/nidq_sync_dict.pkl\n",
      "2023-08-25 19:44:53,740 ceciestunepipe.util.spikeextractors.preprocess INFO     loading syn_dict from /net2/expData/speech_bci/derived_data/z_r12r13_21/2021-06-25/sglx/1348_g0/nidq_sync_dict.pkl\n",
      "2023-08-25 19:44:53,745 ceciestunepipe.util.spikeextractors.preprocess INFO     getting syn patterns for wav\n",
      "2023-08-25 19:44:53,747 ceciestunepipe.util.spikeextractors.preprocess INFO     loading syn_dict from /net2/expData/speech_bci/derived_data/z_r12r13_21/2021-06-25/sglx/1348_g0/wav_sync_dict.pkl\n",
      "2023-08-25 19:44:53,761 ceciestunepipe.util.spikeextractors.preprocess INFO     saved epoch preprocessing parameters to /net2/expData/speech_bci/derived_data/z_r12r13_21/2021-06-25/sglx/1348_g0/preprocess_par.pickle\n",
      "2023-08-25 19:44:53,762 ceciestunepipe.util.spikeextractors.preprocess INFO     PREPROCESSING sess 2021-06-25 | epoch 1416_g0\n",
      "2023-08-25 19:44:53,763 ceciestunepipe.util.spikeextractors.preprocess INFO     getting extractors\n",
      "2023-08-25 19:44:53,863 ceciestunepipe.util.spikeextractors.preprocess INFO     Got sglx recordings for keys ['nidq', 'lf_0', 'ap_0']\n",
      "2023-08-25 19:44:53,864 ceciestunepipe.util.spikeextractors.preprocess INFO     Getting microphone channel(s) ['microphone_0']\n",
      "2023-08-25 19:44:53,865 ceciestunepipe.util.wavutil INFO     sampling rate 25000\n",
      "2023-08-25 19:44:53,866 ceciestunepipe.util.wavutil INFO     saving (1, 75419802)-shaped array as wav in /net2/expData/speech_bci/derived_data/z_r12r13_21/2021-06-25/sglx/1416_g0/wav_mic.wav\n",
      "2023-08-25 19:45:15,075 ceciestunepipe.util.wavutil INFO     saving (1, 75419802)-shaped array as npy in /net2/expData/speech_bci/derived_data/z_r12r13_21/2021-06-25/sglx/1416_g0/wav_mic.npy\n",
      "2023-08-25 19:45:20,234 ceciestunepipe.util.spikeextractors.preprocess INFO     Getting stimulus channel(s) ['wav_stim', 'wav_syn']\n",
      "2023-08-25 19:45:20,235 ceciestunepipe.util.wavutil INFO     sampling rate 25000\n",
      "2023-08-25 19:45:20,236 ceciestunepipe.util.wavutil INFO     saving (2, 75419802)-shaped array as wav in /net2/expData/speech_bci/derived_data/z_r12r13_21/2021-06-25/sglx/1416_g0/wav_stim.wav\n",
      "2023-08-25 19:45:26,929 ceciestunepipe.util.wavutil INFO     saving (2, 75419802)-shaped array as npy in /net2/expData/speech_bci/derived_data/z_r12r13_21/2021-06-25/sglx/1416_g0/wav_stim.npy\n",
      "2023-08-25 19:45:37,593 ceciestunepipe.util.spikeextractors.preprocess INFO     Getting the onset/offset of stimuli from the 1 extracted analog channel\n",
      "/home/jovyan/pablo_tostado/ceciestunepipe/ceciestunepipe/util/sound/spectral.py:87: DeprecationWarning: Importing gaussian from 'scipy.signal' is deprecated and will raise an error in SciPy 1.13.0. Please use 'scipy.signal.windows.gaussian' or the convenience function 'scipy.signal.get_window' instead.\n",
      "  window=signal.gaussian(n_window, sigma),\n",
      "2023-08-25 19:45:37,904 ceciestunepipe.util.stimutil INFO     found 0.0 events\n",
      "2023-08-25 19:45:38,236 ceciestunepipe.util.spikeextractors.preprocess INFO     saved onset/offset of trial events from the sine wave in /net2/expData/speech_bci/derived_data/z_r12r13_21/2021-06-25/sglx/1416_g0/wav_stim_sync_sine_ttl_evt.npy\n",
      "2023-08-25 19:45:38,237 ceciestunepipe.util.spikeextractors.preprocess INFO     Getting sync channel(s) from nidaq streams: ['sync']\n",
      "2023-08-25 19:45:38,238 ceciestunepipe.util.spikeextractors.extractors.spikeglxrecordingextractor.spikeglxrecordingextractor INFO     getting ttl traces, chan [0 1 2 3 4 5 6 7]\n",
      "2023-08-25 19:45:40,921 ceciestunepipe.util.wavutil INFO     sampling rate 25000\n",
      "2023-08-25 19:45:40,922 ceciestunepipe.util.wavutil INFO     saving (1, 75419802)-shaped array as wav in /net2/expData/speech_bci/derived_data/z_r12r13_21/2021-06-25/sglx/1416_g0/wav_sync.wav\n",
      "2023-08-25 19:45:43,773 ceciestunepipe.util.wavutil INFO     saving (1, 75419802)-shaped array as npy in /net2/expData/speech_bci/derived_data/z_r12r13_21/2021-06-25/sglx/1416_g0/wav_sync.npy\n",
      "2023-08-25 19:45:46,651 ceciestunepipe.util.spikeextractors.preprocess INFO     Getting sync events from the wav sync channel\n",
      "2023-08-25 19:45:46,998 ceciestunepipe.util.spikeextractors.preprocess INFO     saving sync events of the wav channel to /net2/expData/speech_bci/derived_data/z_r12r13_21/2021-06-25/sglx/1416_g0/wav_sync_evt.npy\n",
      "2023-08-25 19:45:47,109 ceciestunepipe.util.spikeextractors.preprocess INFO     saving t0 for wav channel to /net2/expData/speech_bci/derived_data/z_r12r13_21/2021-06-25/sglx/1416_g0/wav_t0.npy\n",
      "2023-08-25 19:45:55,269 ceciestunepipe.util.spikeextractors.preprocess INFO     Will get 1 ttl signals\n",
      "2023-08-25 19:45:55,270 ceciestunepipe.util.spikeextractors.preprocess INFO     looking for signal wav_ttl in the nidaq channels\n",
      "2023-08-25 19:45:55,271 ceciestunepipe.util.spikeextractors.preprocess INFO     found in chan 2\n",
      "2023-08-25 19:45:55,272 ceciestunepipe.util.spikeextractors.extractors.spikeglxrecordingextractor.spikeglxrecordingextractor INFO     getting ttl events, chan 2\n",
      "2023-08-25 19:45:56,256 ceciestunepipe.util.spikeextractors.preprocess INFO     saving (0, 2)-shaped array as npy in /net2/expData/speech_bci/derived_data/z_r12r13_21/2021-06-25/sglx/1416_g0/wav_ttl_evt.npy\n",
      "2023-08-25 19:45:56,259 ceciestunepipe.util.spikeextractors.preprocess INFO     saving sync nidaq dict to /net2/expData/speech_bci/derived_data/z_r12r13_21/2021-06-25/sglx/1416_g0/wav_sync_dict.pkl\n",
      "2023-08-25 19:45:56,261 ceciestunepipe.util.spikeextractors.preprocess INFO     Getting sync signals for imec streams: ['lf_0', 'ap_0']\n",
      "2023-08-25 19:45:56,262 ceciestunepipe.util.spikeextractors.preprocess INFO     getting syn patterns for lf_0\n",
      "2023-08-25 19:45:56,263 ceciestunepipe.util.spikeextractors.preprocess INFO     File /net2/expData/speech_bci/derived_data/z_r12r13_21/2021-06-25/sglx/1416_g0/lf_0_sync_dict.pkl not found or forced computation, getting the events\n",
      "2023-08-25 19:45:56,264 ceciestunepipe.util.spikeextractors.extractors.spikeglxrecordingextractor.spikeglxrecordingextractor INFO     getting ttl events, chan 0\n",
      "2023-08-25 19:45:56,265 ceciestunepipe.util.spikeextractors.extractors.readSGLX INFO     Extracting digital on imec stream: there is only one channel, if any (SYN) and will be converted from an int16 channel \n",
      "2023-08-25 19:45:56,266 ceciestunepipe.util.spikeextractors.extractors.readSGLX INFO     allocated array for syn channel of size (6196979,)\n",
      "2023-08-25 19:46:39,037 ceciestunepipe.util.spikeextractors.extractors.readSGLX INFO     Threshold for logical hi is 0\n",
      "/home/jovyan/pablo_tostado/ceciestunepipe/ceciestunepipe/util/spikeextractors/extractors/spikeglxrecordingextractor/readSGLX.py:310: UserWarning: There were 2819460 errors in the recording\n",
      "  warnings.warn('There were {} errors in the recording'.format(n_errors))\n",
      "/home/jovyan/pablo_tostado/ceciestunepipe/ceciestunepipe/util/spikeextractors/extractors/spikeglxrecordingextractor/readSGLX.py:311: UserWarning: You probably want to check those\n",
      "  warnings.warn('You probably want to check those')\n",
      "2023-08-25 19:46:39,179 ceciestunepipe.util.spikeextractors.preprocess INFO     saving events array to /net2/expData/speech_bci/derived_data/z_r12r13_21/2021-06-25/sglx/1416_g0/lf_0_sync_evt.npy\n",
      "2023-08-25 19:46:39,184 ceciestunepipe.util.spikeextractors.preprocess INFO     saving t_0 array to /net2/expData/speech_bci/derived_data/z_r12r13_21/2021-06-25/sglx/1416_g0/lf_0_t0.npy\n",
      "2023-08-25 19:46:39,646 ceciestunepipe.util.spikeextractors.preprocess INFO     saving sync dict to /net2/expData/speech_bci/derived_data/z_r12r13_21/2021-06-25/sglx/1416_g0/lf_0_sync_dict.pkl\n",
      "2023-08-25 19:46:39,648 ceciestunepipe.util.spikeextractors.preprocess INFO     loading syn_dict from /net2/expData/speech_bci/derived_data/z_r12r13_21/2021-06-25/sglx/1416_g0/lf_0_sync_dict.pkl\n",
      "2023-08-25 19:46:39,653 ceciestunepipe.util.spikeextractors.preprocess INFO     getting syn patterns for ap_0\n",
      "2023-08-25 19:46:39,654 ceciestunepipe.util.spikeextractors.preprocess INFO     File /net2/expData/speech_bci/derived_data/z_r12r13_21/2021-06-25/sglx/1416_g0/ap_0_sync_dict.pkl not found or forced computation, getting the events\n",
      "2023-08-25 19:46:39,655 ceciestunepipe.util.spikeextractors.extractors.spikeglxrecordingextractor.spikeglxrecordingextractor INFO     getting ttl events, chan 0\n",
      "2023-08-25 19:46:39,656 ceciestunepipe.util.spikeextractors.extractors.readSGLX INFO     Extracting digital on imec stream: there is only one channel, if any (SYN) and will be converted from an int16 channel \n",
      "2023-08-25 19:46:39,657 ceciestunepipe.util.spikeextractors.extractors.readSGLX INFO     allocated array for syn channel of size (74363745,)\n",
      "2023-08-25 19:55:10,913 ceciestunepipe.util.spikeextractors.extractors.readSGLX INFO     Threshold for logical hi is 0\n",
      "/home/jovyan/pablo_tostado/ceciestunepipe/ceciestunepipe/util/spikeextractors/extractors/spikeglxrecordingextractor/readSGLX.py:310: UserWarning: There were 33833524 errors in the recording\n",
      "  warnings.warn('There were {} errors in the recording'.format(n_errors))\n",
      "/home/jovyan/pablo_tostado/ceciestunepipe/ceciestunepipe/util/spikeextractors/extractors/spikeglxrecordingextractor/readSGLX.py:311: UserWarning: You probably want to check those\n",
      "  warnings.warn('You probably want to check those')\n",
      "2023-08-25 19:55:12,507 ceciestunepipe.util.spikeextractors.preprocess INFO     saving events array to /net2/expData/speech_bci/derived_data/z_r12r13_21/2021-06-25/sglx/1416_g0/ap_0_sync_evt.npy\n",
      "2023-08-25 19:55:12,513 ceciestunepipe.util.spikeextractors.preprocess INFO     saving t_0 array to /net2/expData/speech_bci/derived_data/z_r12r13_21/2021-06-25/sglx/1416_g0/ap_0_t0.npy\n",
      "2023-08-25 19:55:17,967 ceciestunepipe.util.spikeextractors.preprocess INFO     saving sync dict to /net2/expData/speech_bci/derived_data/z_r12r13_21/2021-06-25/sglx/1416_g0/ap_0_sync_dict.pkl\n",
      "2023-08-25 19:55:17,969 ceciestunepipe.util.spikeextractors.preprocess INFO     loading syn_dict from /net2/expData/speech_bci/derived_data/z_r12r13_21/2021-06-25/sglx/1416_g0/ap_0_sync_dict.pkl\n",
      "2023-08-25 19:55:17,976 ceciestunepipe.util.spikeextractors.preprocess INFO     getting syn patterns for nidq\n",
      "2023-08-25 19:55:17,978 ceciestunepipe.util.spikeextractors.preprocess INFO     File /net2/expData/speech_bci/derived_data/z_r12r13_21/2021-06-25/sglx/1416_g0/nidq_sync_dict.pkl not found or forced computation, getting the events\n",
      "2023-08-25 19:55:17,979 ceciestunepipe.util.spikeextractors.extractors.spikeglxrecordingextractor.spikeglxrecordingextractor INFO     getting ttl events, chan 0\n",
      "2023-08-25 19:55:27,078 ceciestunepipe.util.spikeextractors.preprocess INFO     saving events array to /net2/expData/speech_bci/derived_data/z_r12r13_21/2021-06-25/sglx/1416_g0/nidq_sync_evt.npy\n",
      "2023-08-25 19:55:27,081 ceciestunepipe.util.spikeextractors.preprocess INFO     saving t_0 array to /net2/expData/speech_bci/derived_data/z_r12r13_21/2021-06-25/sglx/1416_g0/nidq_t0.npy\n",
      "2023-08-25 19:55:32,624 ceciestunepipe.util.spikeextractors.preprocess INFO     saving sync dict to /net2/expData/speech_bci/derived_data/z_r12r13_21/2021-06-25/sglx/1416_g0/nidq_sync_dict.pkl\n",
      "2023-08-25 19:55:32,627 ceciestunepipe.util.spikeextractors.preprocess INFO     loading syn_dict from /net2/expData/speech_bci/derived_data/z_r12r13_21/2021-06-25/sglx/1416_g0/nidq_sync_dict.pkl\n",
      "2023-08-25 19:55:32,632 ceciestunepipe.util.spikeextractors.preprocess INFO     getting syn patterns for wav\n",
      "2023-08-25 19:55:32,634 ceciestunepipe.util.spikeextractors.preprocess INFO     loading syn_dict from /net2/expData/speech_bci/derived_data/z_r12r13_21/2021-06-25/sglx/1416_g0/wav_sync_dict.pkl\n",
      "2023-08-25 19:55:32,685 ceciestunepipe.util.spikeextractors.preprocess INFO     saved epoch preprocessing parameters to /net2/expData/speech_bci/derived_data/z_r12r13_21/2021-06-25/sglx/1416_g0/preprocess_par.pickle\n",
      "2023-08-25 19:55:32,688 ceciestunepipe.util.spikeextractors.preprocess INFO     PREPROCESSING sess 2021-06-25 | epoch 1535_g0\n",
      "2023-08-25 19:55:32,690 ceciestunepipe.util.spikeextractors.preprocess INFO     getting extractors\n",
      "2023-08-25 19:55:32,865 ceciestunepipe.util.spikeextractors.preprocess INFO     Got sglx recordings for keys ['nidq', 'lf_0', 'ap_0']\n",
      "2023-08-25 19:55:32,866 ceciestunepipe.util.spikeextractors.preprocess INFO     Getting microphone channel(s) ['microphone_0']\n",
      "2023-08-25 19:55:32,867 ceciestunepipe.util.wavutil INFO     sampling rate 25000\n",
      "2023-08-25 19:55:32,869 ceciestunepipe.util.wavutil INFO     saving (1, 417967104)-shaped array as wav in /net2/expData/speech_bci/derived_data/z_r12r13_21/2021-06-25/sglx/1535_g0/wav_mic.wav\n",
      "2023-08-25 19:56:27,346 ceciestunepipe.util.wavutil INFO     saving (1, 417967104)-shaped array as npy in /net2/expData/speech_bci/derived_data/z_r12r13_21/2021-06-25/sglx/1535_g0/wav_mic.npy\n",
      "2023-08-25 19:57:00,547 ceciestunepipe.util.spikeextractors.preprocess INFO     Getting stimulus channel(s) ['wav_stim', 'wav_syn']\n",
      "2023-08-25 19:57:00,549 ceciestunepipe.util.wavutil INFO     sampling rate 25000\n",
      "2023-08-25 19:57:00,549 ceciestunepipe.util.wavutil INFO     saving (2, 417967104)-shaped array as wav in /net2/expData/speech_bci/derived_data/z_r12r13_21/2021-06-25/sglx/1535_g0/wav_stim.wav\n",
      "2023-08-25 19:57:40,048 ceciestunepipe.util.wavutil INFO     saving (2, 417967104)-shaped array as npy in /net2/expData/speech_bci/derived_data/z_r12r13_21/2021-06-25/sglx/1535_g0/wav_stim.npy\n",
      "2023-08-25 19:58:19,532 ceciestunepipe.util.spikeextractors.preprocess INFO     Getting the onset/offset of stimuli from the 1 extracted analog channel\n",
      "/home/jovyan/pablo_tostado/ceciestunepipe/ceciestunepipe/util/sound/spectral.py:87: DeprecationWarning: Importing gaussian from 'scipy.signal' is deprecated and will raise an error in SciPy 1.13.0. Please use 'scipy.signal.windows.gaussian' or the convenience function 'scipy.signal.get_window' instead.\n",
      "  window=signal.gaussian(n_window, sigma),\n",
      "2023-08-25 19:58:21,108 ceciestunepipe.util.stimutil INFO     found 8310.0 events\n",
      "2023-08-25 19:58:21,135 ceciestunepipe.util.spikeextractors.preprocess INFO     saved onset/offset of trial events from the sine wave in /net2/expData/speech_bci/derived_data/z_r12r13_21/2021-06-25/sglx/1535_g0/wav_stim_sync_sine_ttl_evt.npy\n",
      "2023-08-25 19:58:21,136 ceciestunepipe.util.spikeextractors.preprocess INFO     Getting sync channel(s) from nidaq streams: ['sync']\n",
      "2023-08-25 19:58:21,137 ceciestunepipe.util.spikeextractors.extractors.spikeglxrecordingextractor.spikeglxrecordingextractor INFO     getting ttl traces, chan [0 1 2 3 4 5 6 7]\n",
      "2023-08-25 19:58:36,209 ceciestunepipe.util.wavutil INFO     sampling rate 25000\n",
      "2023-08-25 19:58:36,210 ceciestunepipe.util.wavutil INFO     saving (1, 417967104)-shaped array as wav in /net2/expData/speech_bci/derived_data/z_r12r13_21/2021-06-25/sglx/1535_g0/wav_sync.wav\n",
      "2023-08-25 19:58:43,926 ceciestunepipe.util.wavutil INFO     saving (1, 417967104)-shaped array as npy in /net2/expData/speech_bci/derived_data/z_r12r13_21/2021-06-25/sglx/1535_g0/wav_sync.npy\n",
      "2023-08-25 19:58:51,669 ceciestunepipe.util.spikeextractors.preprocess INFO     Getting sync events from the wav sync channel\n",
      "2023-08-25 19:58:53,215 ceciestunepipe.util.spikeextractors.preprocess INFO     saving sync events of the wav channel to /net2/expData/speech_bci/derived_data/z_r12r13_21/2021-06-25/sglx/1535_g0/wav_sync_evt.npy\n",
      "2023-08-25 19:58:53,225 ceciestunepipe.util.spikeextractors.preprocess INFO     saving t0 for wav channel to /net2/expData/speech_bci/derived_data/z_r12r13_21/2021-06-25/sglx/1535_g0/wav_t0.npy\n",
      "2023-08-25 19:59:25,980 ceciestunepipe.util.spikeextractors.preprocess INFO     Will get 1 ttl signals\n",
      "2023-08-25 19:59:25,981 ceciestunepipe.util.spikeextractors.preprocess INFO     looking for signal wav_ttl in the nidaq channels\n",
      "2023-08-25 19:59:25,982 ceciestunepipe.util.spikeextractors.preprocess INFO     found in chan 2\n",
      "2023-08-25 19:59:25,983 ceciestunepipe.util.spikeextractors.extractors.spikeglxrecordingextractor.spikeglxrecordingextractor INFO     getting ttl events, chan 2\n",
      "2023-08-25 19:59:30,989 ceciestunepipe.util.spikeextractors.preprocess INFO     saving (0, 2)-shaped array as npy in /net2/expData/speech_bci/derived_data/z_r12r13_21/2021-06-25/sglx/1535_g0/wav_ttl_evt.npy\n",
      "2023-08-25 19:59:30,992 ceciestunepipe.util.spikeextractors.preprocess INFO     saving sync nidaq dict to /net2/expData/speech_bci/derived_data/z_r12r13_21/2021-06-25/sglx/1535_g0/wav_sync_dict.pkl\n",
      "2023-08-25 19:59:30,996 ceciestunepipe.util.spikeextractors.preprocess INFO     Getting sync signals for imec streams: ['lf_0', 'ap_0']\n",
      "2023-08-25 19:59:30,997 ceciestunepipe.util.spikeextractors.preprocess INFO     getting syn patterns for lf_0\n",
      "2023-08-25 19:59:30,999 ceciestunepipe.util.spikeextractors.preprocess INFO     File /net2/expData/speech_bci/derived_data/z_r12r13_21/2021-06-25/sglx/1535_g0/lf_0_sync_dict.pkl not found or forced computation, getting the events\n",
      "2023-08-25 19:59:30,999 ceciestunepipe.util.spikeextractors.extractors.spikeglxrecordingextractor.spikeglxrecordingextractor INFO     getting ttl events, chan 0\n",
      "2023-08-25 19:59:31,000 ceciestunepipe.util.spikeextractors.extractors.readSGLX INFO     Extracting digital on imec stream: there is only one channel, if any (SYN) and will be converted from an int16 channel \n",
      "2023-08-25 19:59:31,004 ceciestunepipe.util.spikeextractors.extractors.readSGLX INFO     allocated array for syn channel of size (41797245,)\n",
      "2023-08-25 20:04:18,015 ceciestunepipe.util.spikeextractors.extractors.readSGLX INFO     Threshold for logical hi is 0\n",
      "2023-08-25 20:04:18,728 ceciestunepipe.util.spikeextractors.preprocess INFO     saving events array to /net2/expData/speech_bci/derived_data/z_r12r13_21/2021-06-25/sglx/1535_g0/lf_0_sync_evt.npy\n",
      "2023-08-25 20:04:18,738 ceciestunepipe.util.spikeextractors.preprocess INFO     saving t_0 array to /net2/expData/speech_bci/derived_data/z_r12r13_21/2021-06-25/sglx/1535_g0/lf_0_t0.npy\n",
      "2023-08-25 20:04:21,799 ceciestunepipe.util.spikeextractors.preprocess INFO     saving sync dict to /net2/expData/speech_bci/derived_data/z_r12r13_21/2021-06-25/sglx/1535_g0/lf_0_sync_dict.pkl\n",
      "2023-08-25 20:04:21,802 ceciestunepipe.util.spikeextractors.preprocess INFO     loading syn_dict from /net2/expData/speech_bci/derived_data/z_r12r13_21/2021-06-25/sglx/1535_g0/lf_0_sync_dict.pkl\n",
      "2023-08-25 20:04:21,808 ceciestunepipe.util.spikeextractors.preprocess INFO     getting syn patterns for ap_0\n",
      "2023-08-25 20:04:21,809 ceciestunepipe.util.spikeextractors.preprocess INFO     File /net2/expData/speech_bci/derived_data/z_r12r13_21/2021-06-25/sglx/1535_g0/ap_0_sync_dict.pkl not found or forced computation, getting the events\n",
      "2023-08-25 20:04:21,810 ceciestunepipe.util.spikeextractors.extractors.spikeglxrecordingextractor.spikeglxrecordingextractor INFO     getting ttl events, chan 0\n",
      "2023-08-25 20:04:21,811 ceciestunepipe.util.spikeextractors.extractors.readSGLX INFO     Extracting digital on imec stream: there is only one channel, if any (SYN) and will be converted from an int16 channel \n",
      "2023-08-25 20:04:21,812 ceciestunepipe.util.spikeextractors.extractors.readSGLX INFO     allocated array for syn channel of size (501566929,)\n",
      "2023-08-25 21:02:03,884 ceciestunepipe.util.spikeextractors.extractors.readSGLX INFO     Threshold for logical hi is 0\n",
      "2023-08-25 21:02:13,938 ceciestunepipe.util.spikeextractors.preprocess INFO     saving events array to /net2/expData/speech_bci/derived_data/z_r12r13_21/2021-06-25/sglx/1535_g0/ap_0_sync_evt.npy\n",
      "2023-08-25 21:02:13,947 ceciestunepipe.util.spikeextractors.preprocess INFO     saving t_0 array to /net2/expData/speech_bci/derived_data/z_r12r13_21/2021-06-25/sglx/1535_g0/ap_0_t0.npy\n",
      "2023-08-25 21:02:50,257 ceciestunepipe.util.spikeextractors.preprocess INFO     saving sync dict to /net2/expData/speech_bci/derived_data/z_r12r13_21/2021-06-25/sglx/1535_g0/ap_0_sync_dict.pkl\n",
      "2023-08-25 21:02:50,259 ceciestunepipe.util.spikeextractors.preprocess INFO     loading syn_dict from /net2/expData/speech_bci/derived_data/z_r12r13_21/2021-06-25/sglx/1535_g0/ap_0_sync_dict.pkl\n",
      "2023-08-25 21:02:50,718 ceciestunepipe.util.spikeextractors.preprocess INFO     getting syn patterns for nidq\n",
      "2023-08-25 21:02:50,719 ceciestunepipe.util.spikeextractors.preprocess INFO     File /net2/expData/speech_bci/derived_data/z_r12r13_21/2021-06-25/sglx/1535_g0/nidq_sync_dict.pkl not found or forced computation, getting the events\n",
      "2023-08-25 21:02:50,720 ceciestunepipe.util.spikeextractors.extractors.spikeglxrecordingextractor.spikeglxrecordingextractor INFO     getting ttl events, chan 0\n",
      "2023-08-25 21:02:59,363 ceciestunepipe.util.spikeextractors.preprocess INFO     saving events array to /net2/expData/speech_bci/derived_data/z_r12r13_21/2021-06-25/sglx/1535_g0/nidq_sync_evt.npy\n",
      "2023-08-25 21:02:59,373 ceciestunepipe.util.spikeextractors.preprocess INFO     saving t_0 array to /net2/expData/speech_bci/derived_data/z_r12r13_21/2021-06-25/sglx/1535_g0/nidq_t0.npy\n",
      "2023-08-25 21:03:29,992 ceciestunepipe.util.spikeextractors.preprocess INFO     saving sync dict to /net2/expData/speech_bci/derived_data/z_r12r13_21/2021-06-25/sglx/1535_g0/nidq_sync_dict.pkl\n",
      "2023-08-25 21:03:29,995 ceciestunepipe.util.spikeextractors.preprocess INFO     loading syn_dict from /net2/expData/speech_bci/derived_data/z_r12r13_21/2021-06-25/sglx/1535_g0/nidq_sync_dict.pkl\n",
      "2023-08-25 21:03:30,003 ceciestunepipe.util.spikeextractors.preprocess INFO     getting syn patterns for wav\n",
      "2023-08-25 21:03:30,004 ceciestunepipe.util.spikeextractors.preprocess INFO     loading syn_dict from /net2/expData/speech_bci/derived_data/z_r12r13_21/2021-06-25/sglx/1535_g0/wav_sync_dict.pkl\n",
      "2023-08-25 21:03:30,050 ceciestunepipe.util.spikeextractors.preprocess INFO     saved epoch preprocessing parameters to /net2/expData/speech_bci/derived_data/z_r12r13_21/2021-06-25/sglx/1535_g0/preprocess_par.pickle\n",
      "2023-08-25 21:03:30,972 root         INFO     pre-process all runs of sess 2021-06-26\n",
      "2023-08-25 21:03:30,973 ceciestunepipe.file.bcistructure INFO     {'folders': {'bird': '/net2/expData/speech_bci/raw_data/z_r12r13_21', 'raw': '/net2/expData/speech_bci/raw_data/z_r12r13_21/2021-06-26', 'sglx': '/net2/expData/speech_bci/raw_data/z_r12r13_21/2021-06-26/sglx', 'kwik': '/experiment/z_r12r13_21/sglx/kwik/2021-06-26', 'processed': '/net2/expData/speech_bci/processed_data/z_r12r13_21/2021-06-26/sglx', 'derived': '/net2/expData/speech_bci/derived_data/z_r12r13_21/2021-06-26/sglx', 'tmp': '/experiment/tmp/tmp', 'msort': '/experiment/tmp/z_r12r13_21/sglx/msort/2021-06-26', 'ksort': '/experiment/tmp/z_r12r13_21/sglx/ksort/2021-06-26/0', 'sort': '/net2/expData/speech_bci/derived_data/z_r12r13_21/2021-06-26/sglx/0'}, 'files': {'par': '/experiment/tmp/z_r12r13_21/sglx/ksort/2021-06-26/0/params.json', 'set': '/net2/expData/speech_bci/raw_data/z_r12r13_21/2021-06-26/sglx/settings.isf', 'rig': '/net2/expData/speech_bci/raw_data/z_r12r13_21/2021-06-26/sglx/rig.json', 'kwd': '/experiment/z_r12r13_21/sglx/kwik/2021-06-26/stream.kwd', 'kwik': '/experiment/z_r12r13_21/sglx/kwik/2021-06-26/sort_0/spikes.kwik', 'kwe': '/experiment/z_r12r13_21/sglx/kwik/2021-06-26/events.kwe', 'dat_mic': '/net2/expData/speech_bci/processed_data/z_r12r13_21/2021-06-26/sglx/dat_mic.mat', 'dat_ap': '/net2/expData/speech_bci/processed_data/z_r12r13_21/2021-06-26/sglx/dat_ap.mat', 'allevents': '/net2/expData/speech_bci/processed_data/z_r12r13_21/2021-06-26/sglx/dat_all.pkl', 'wav_mic': '/net2/expData/speech_bci/derived_data/z_r12r13_21/2021-06-26/sglx/wav_mic.wav', 'mda_raw': '/experiment/tmp/z_r12r13_21/sglx/msort/2021-06-26/raw.mda', 'bin_raw': '/experiment/tmp/z_r12r13_21/sglx/ksort/2021-06-26/0/raw.bin'}}\n",
      "2023-08-25 21:03:30,976 root         INFO     found epochs: ['0726_g0', '1056_g0', '1428_g0', '1816_g0']\n",
      "2023-08-25 21:03:30,977 ceciestunepipe.util.spikeextractors.preprocess INFO     PREPROCESSING sess 2021-06-26 | epoch 0726_g0\n",
      "2023-08-25 21:03:30,977 ceciestunepipe.util.spikeextractors.preprocess INFO     getting extractors\n",
      "2023-08-25 21:03:31,229 ceciestunepipe.util.spikeextractors.preprocess INFO     Got sglx recordings for keys ['nidq', 'lf_0', 'ap_0']\n",
      "2023-08-25 21:03:31,230 ceciestunepipe.util.spikeextractors.preprocess INFO     Getting microphone channel(s) ['microphone_0']\n",
      "2023-08-25 21:03:31,231 ceciestunepipe.util.wavutil INFO     sampling rate 25000\n",
      "2023-08-25 21:03:31,233 ceciestunepipe.util.wavutil INFO     saving (1, 311930369)-shaped array as wav in /net2/expData/speech_bci/derived_data/z_r12r13_21/2021-06-26/sglx/0726_g0/wav_mic.wav\n",
      "2023-08-25 21:04:12,130 ceciestunepipe.util.wavutil INFO     saving (1, 311930369)-shaped array as npy in /net2/expData/speech_bci/derived_data/z_r12r13_21/2021-06-26/sglx/0726_g0/wav_mic.npy\n",
      "2023-08-25 21:04:26,611 ceciestunepipe.util.spikeextractors.preprocess INFO     Getting stimulus channel(s) ['wav_stim', 'wav_syn']\n",
      "2023-08-25 21:04:26,613 ceciestunepipe.util.wavutil INFO     sampling rate 25000\n",
      "2023-08-25 21:04:26,614 ceciestunepipe.util.wavutil INFO     saving (2, 311930369)-shaped array as wav in /net2/expData/speech_bci/derived_data/z_r12r13_21/2021-06-26/sglx/0726_g0/wav_stim.wav\n",
      "2023-08-25 21:04:40,904 ceciestunepipe.util.wavutil INFO     saving (2, 311930369)-shaped array as npy in /net2/expData/speech_bci/derived_data/z_r12r13_21/2021-06-26/sglx/0726_g0/wav_stim.npy\n",
      "2023-08-25 21:05:09,816 ceciestunepipe.util.spikeextractors.preprocess INFO     Getting the onset/offset of stimuli from the 1 extracted analog channel\n",
      "/home/jovyan/pablo_tostado/ceciestunepipe/ceciestunepipe/util/sound/spectral.py:87: DeprecationWarning: Importing gaussian from 'scipy.signal' is deprecated and will raise an error in SciPy 1.13.0. Please use 'scipy.signal.windows.gaussian' or the convenience function 'scipy.signal.get_window' instead.\n",
      "  window=signal.gaussian(n_window, sigma),\n",
      "2023-08-25 21:05:10,869 ceciestunepipe.util.stimutil INFO     found 463.0 events\n",
      "2023-08-25 21:05:10,892 ceciestunepipe.util.spikeextractors.preprocess INFO     saved onset/offset of trial events from the sine wave in /net2/expData/speech_bci/derived_data/z_r12r13_21/2021-06-26/sglx/0726_g0/wav_stim_sync_sine_ttl_evt.npy\n",
      "2023-08-25 21:05:10,893 ceciestunepipe.util.spikeextractors.preprocess INFO     Getting sync channel(s) from nidaq streams: ['sync']\n",
      "2023-08-25 21:05:10,894 ceciestunepipe.util.spikeextractors.extractors.spikeglxrecordingextractor.spikeglxrecordingextractor INFO     getting ttl traces, chan [0 1 2 3 4 5 6 7]\n",
      "2023-08-25 21:05:17,848 ceciestunepipe.util.wavutil INFO     sampling rate 25000\n",
      "2023-08-25 21:05:17,848 ceciestunepipe.util.wavutil INFO     saving (1, 311930369)-shaped array as wav in /net2/expData/speech_bci/derived_data/z_r12r13_21/2021-06-26/sglx/0726_g0/wav_sync.wav\n",
      "2023-08-25 21:05:23,548 ceciestunepipe.util.wavutil INFO     saving (1, 311930369)-shaped array as npy in /net2/expData/speech_bci/derived_data/z_r12r13_21/2021-06-26/sglx/0726_g0/wav_sync.npy\n",
      "2023-08-25 21:05:29,372 ceciestunepipe.util.spikeextractors.preprocess INFO     Getting sync events from the wav sync channel\n",
      "2023-08-25 21:05:30,482 ceciestunepipe.util.spikeextractors.preprocess INFO     saving sync events of the wav channel to /net2/expData/speech_bci/derived_data/z_r12r13_21/2021-06-26/sglx/0726_g0/wav_sync_evt.npy\n",
      "2023-08-25 21:05:30,489 ceciestunepipe.util.spikeextractors.preprocess INFO     saving t0 for wav channel to /net2/expData/speech_bci/derived_data/z_r12r13_21/2021-06-26/sglx/0726_g0/wav_t0.npy\n",
      "2023-08-25 21:05:54,846 ceciestunepipe.util.spikeextractors.preprocess INFO     Will get 1 ttl signals\n",
      "2023-08-25 21:05:54,847 ceciestunepipe.util.spikeextractors.preprocess INFO     looking for signal wav_ttl in the nidaq channels\n",
      "2023-08-25 21:05:54,848 ceciestunepipe.util.spikeextractors.preprocess INFO     found in chan 2\n",
      "2023-08-25 21:05:54,849 ceciestunepipe.util.spikeextractors.extractors.spikeglxrecordingextractor.spikeglxrecordingextractor INFO     getting ttl events, chan 2\n",
      "2023-08-25 21:05:58,753 ceciestunepipe.util.spikeextractors.preprocess INFO     saving (0, 2)-shaped array as npy in /net2/expData/speech_bci/derived_data/z_r12r13_21/2021-06-26/sglx/0726_g0/wav_ttl_evt.npy\n",
      "2023-08-25 21:05:58,756 ceciestunepipe.util.spikeextractors.preprocess INFO     saving sync nidaq dict to /net2/expData/speech_bci/derived_data/z_r12r13_21/2021-06-26/sglx/0726_g0/wav_sync_dict.pkl\n",
      "2023-08-25 21:05:58,758 ceciestunepipe.util.spikeextractors.preprocess INFO     Getting sync signals for imec streams: ['lf_0', 'ap_0']\n",
      "2023-08-25 21:05:58,759 ceciestunepipe.util.spikeextractors.preprocess INFO     getting syn patterns for lf_0\n",
      "2023-08-25 21:05:58,761 ceciestunepipe.util.spikeextractors.preprocess INFO     File /net2/expData/speech_bci/derived_data/z_r12r13_21/2021-06-26/sglx/0726_g0/lf_0_sync_dict.pkl not found or forced computation, getting the events\n",
      "2023-08-25 21:05:58,762 ceciestunepipe.util.spikeextractors.extractors.spikeglxrecordingextractor.spikeglxrecordingextractor INFO     getting ttl events, chan 0\n",
      "2023-08-25 21:05:58,762 ceciestunepipe.util.spikeextractors.extractors.readSGLX INFO     Extracting digital on imec stream: there is only one channel, if any (SYN) and will be converted from an int16 channel \n",
      "2023-08-25 21:05:58,764 ceciestunepipe.util.spikeextractors.extractors.readSGLX INFO     allocated array for syn channel of size (31193434,)\n",
      "2023-08-25 21:09:32,322 ceciestunepipe.util.spikeextractors.extractors.readSGLX INFO     Threshold for logical hi is 0\n",
      "2023-08-25 21:09:32,927 ceciestunepipe.util.spikeextractors.preprocess INFO     saving events array to /net2/expData/speech_bci/derived_data/z_r12r13_21/2021-06-26/sglx/0726_g0/lf_0_sync_evt.npy\n",
      "2023-08-25 21:09:32,936 ceciestunepipe.util.spikeextractors.preprocess INFO     saving t_0 array to /net2/expData/speech_bci/derived_data/z_r12r13_21/2021-06-26/sglx/0726_g0/lf_0_t0.npy\n",
      "2023-08-25 21:09:35,243 ceciestunepipe.util.spikeextractors.preprocess INFO     saving sync dict to /net2/expData/speech_bci/derived_data/z_r12r13_21/2021-06-26/sglx/0726_g0/lf_0_sync_dict.pkl\n",
      "2023-08-25 21:09:35,246 ceciestunepipe.util.spikeextractors.preprocess INFO     loading syn_dict from /net2/expData/speech_bci/derived_data/z_r12r13_21/2021-06-26/sglx/0726_g0/lf_0_sync_dict.pkl\n",
      "2023-08-25 21:09:35,252 ceciestunepipe.util.spikeextractors.preprocess INFO     getting syn patterns for ap_0\n",
      "2023-08-25 21:09:35,253 ceciestunepipe.util.spikeextractors.preprocess INFO     File /net2/expData/speech_bci/derived_data/z_r12r13_21/2021-06-26/sglx/0726_g0/ap_0_sync_dict.pkl not found or forced computation, getting the events\n",
      "2023-08-25 21:09:35,254 ceciestunepipe.util.spikeextractors.extractors.spikeglxrecordingextractor.spikeglxrecordingextractor INFO     getting ttl events, chan 0\n",
      "2023-08-25 21:09:35,255 ceciestunepipe.util.spikeextractors.extractors.readSGLX INFO     Extracting digital on imec stream: there is only one channel, if any (SYN) and will be converted from an int16 channel \n",
      "2023-08-25 21:09:35,256 ceciestunepipe.util.spikeextractors.extractors.readSGLX INFO     allocated array for syn channel of size (374321208,)\n"
     ]
    }
   ],
   "source": [
    "all_sess_dict = {}\n",
    "\n",
    "for one_sess in sess_list[:]:\n",
    "    sess_par['sess'] = one_sess\n",
    "    preprocess_session(sess_par)"
   ]
  },
  {
   "cell_type": "markdown",
   "metadata": {
    "jp-MarkdownHeadingCollapsed": true,
    "tags": []
   },
   "source": [
    "# DEPRECATED: search bouts for those sessions"
   ]
  },
  {
   "cell_type": "code",
   "execution_count": 17,
   "metadata": {},
   "outputs": [],
   "source": [
    "from ceciestunepipe.util.sound import boutsearch as bs\n",
    "from ceciestunepipe.util import wavutil as wu\n",
    "\n",
    "from joblib import Parallel, delayed\n",
    "import pickle\n",
    "import sys"
   ]
  },
  {
   "cell_type": "code",
   "execution_count": 18,
   "metadata": {},
   "outputs": [
    {
     "data": {
      "text/plain": [
       "<module 'ceciestunepipe.util.sound.boutsearch' from '/home/finch/repos/ceciestunepipe/ceciestunepipe/util/sound/boutsearch.py'>"
      ]
     },
     "execution_count": 18,
     "metadata": {},
     "output_type": "execute_result"
    }
   ],
   "source": [
    "reload(bs)"
   ]
  },
  {
   "cell_type": "code",
   "execution_count": 19,
   "metadata": {},
   "outputs": [],
   "source": [
    "def sess_file_id(f_path):\n",
    "    n = int(os.path.split(f_path)[1].split('-')[-1].split('.wav')[0])\n",
    "    return n\n",
    "\n",
    "\n",
    "def get_all_day_bouts(sess_par: dict, hparams:dict, n_jobs: int=12, ephys_software='sglx', \n",
    "                     parallel=True) -> pd.DataFrame:\n",
    "    \n",
    "    logger.info('Will search for bouts through all session {}, {}'.format(sess_par['bird'], sess_par['sess']))\n",
    "    exp_struct = et.get_exp_struct(sess_par['bird'], sess_par['sess'], ephys_software=ephys_software)\n",
    "\n",
    "    # get all the paths to the wav files of the epochs of the day   \n",
    "    source_folder = exp_struct['folders']['derived']\n",
    "    wav_path_list = et.get_sgl_files_epochs(source_folder, file_filter='*wav_mic.wav')\n",
    "    wav_path_list.sort()\n",
    "    logger.info('Found {} files'.format(len(wav_path_list)))\n",
    "    print(wav_path_list)\n",
    "    \n",
    "    get_file_bouts = lambda path: bs.get_epoch_bouts(path, hparams)\n",
    "    # Go parallel through all the paths in the day, get a list of all the pandas dataframes for each file\n",
    "    if parallel:\n",
    "        sess_pd_list = Parallel(n_jobs=n_jobs, verbose=100, prefer='threads')(delayed(get_file_bouts)(i) for i in wav_path_list)\n",
    "    else:\n",
    "        sess_pd_list = [get_file_bouts(i) for i in wav_path_list]\n",
    "    \n",
    "    #concatenate the file and return it, eventually write to a pickle\n",
    "    sess_bout_pd = pd.concat(sess_pd_list)\n",
    "    return sess_bout_pd\n",
    "\n",
    "def save_auto_bouts(sess_bout_pd, sess_par, hparams):\n",
    "    exp_struct = et.get_exp_struct(sess_par['bird'], sess_par['sess'], ephys_software='bouts_sglx')\n",
    "    #sess_bouts_dir = os.path.join(exp_struct['folders']['derived'], 'bouts_ceciestunepipe')\n",
    "    sess_bouts_dir = exp_struct['folders']['derived']\n",
    "\n",
    "    sess_bouts_path = os.path.join(sess_bouts_dir, hparams['bout_auto_file'])\n",
    "    hparams_pickle_path = os.path.join(sess_bouts_dir, 'bout_search_params.pickle')\n",
    "\n",
    "    os.makedirs(sess_bouts_dir, exist_ok=True)\n",
    "    logger.info('saving bouts pandas to ' + sess_bouts_path)\n",
    "    sess_bout_pd.to_pickle(sess_bouts_path)\n",
    "\n",
    "    logger.info('saving bout detect parameters dict to ' + hparams_pickle_path)\n",
    "    with open(hparams_pickle_path, 'wb') as fh:\n",
    "        pickle.dump(hparams, fh)"
   ]
  },
  {
   "cell_type": "code",
   "execution_count": 20,
   "metadata": {},
   "outputs": [],
   "source": [
    "## need to enter 'sample_rate' from the file!\n",
    "hparams = {\n",
    "    # spectrogram\n",
    "    'num_freq':1024, #1024# how many channels to use in a spectrogram #\n",
    "    'preemphasis':0.97, \n",
    "    'frame_shift_ms':5, # step size for fft\n",
    "    'frame_length_ms':10, #128 # frame length for fft FRAME SAMPLES < NUM_FREQ!!!\n",
    "    'min_level_db':-55, # minimum threshold db for computing spe \n",
    "    'ref_level_db':110, # reference db for computing spec\n",
    "    #'sample_rate':None, # sample rate of your data\n",
    "    \n",
    "    # spectrograms\n",
    "    'mel_filter': False, # should a mel filter be used?\n",
    "    'num_mels':1024, # how many channels to use in the mel-spectrogram\n",
    "    'fmin': 500, # low frequency cutoff for mel filter\n",
    "    'fmax': 12000, # high frequency cutoff for mel filter\n",
    "    \n",
    "    # spectrogram inversion\n",
    "    'max_iters':200,\n",
    "    'griffin_lim_iters':20,\n",
    "    'power':1.5,\n",
    "\n",
    "    # Added for the searching\n",
    "    'read_wav_fun': wu.read_wav_chan, # function for loading the wav_like_stream (has to returns fs, ndarray)\n",
    "    'file_order_fun': sess_file_id, # function for extracting the file id within the session\n",
    "    'min_segment': 30, # Minimum length of supra_threshold to consider a 'syllable' (ms)\n",
    "    'min_silence': 2000, # Minmum distance between groups of syllables to consider separate bouts (ms)\n",
    "    'min_bout': 5000, # min bout duration (ms)\n",
    "    'peak_thresh_rms': 0.55, # threshold (rms) for peak acceptance,\n",
    "    'thresh_rms': 0.25, # threshold for detection of syllables\n",
    "    'mean_syl_rms_thresh': 0.3, #threshold for acceptance of mean rms across the syllable (relative to rms of the file)\n",
    "    'max_bout': 120000, #exclude bouts too long\n",
    "    'l_p_r_thresh': 100, # threshold for n of len_ms/peaks (typycally about 2-3 syllable spans\n",
    "    \n",
    "    'waveform_edges': 1000, #get number of ms before and after the edges of the bout for the waveform sample\n",
    "    \n",
    "    'bout_auto_file': 'bout_auto.pickle', # extension for saving the auto found files\n",
    "    'bout_curated_file': 'bout_checked.pickle', #extension for manually curated files (coming soon)\n",
    "    }"
   ]
  },
  {
   "cell_type": "code",
   "execution_count": 1,
   "metadata": {
    "tags": []
   },
   "outputs": [
    {
     "ename": "NameError",
     "evalue": "name 'sess_list' is not defined",
     "output_type": "error",
     "traceback": [
      "\u001b[0;31m---------------------------------------------------------------------------\u001b[0m",
      "\u001b[0;31mNameError\u001b[0m                                 Traceback (most recent call last)",
      "\u001b[0;32m<ipython-input-1-4b49557f19cd>\u001b[0m in \u001b[0;36m<module>\u001b[0;34m\u001b[0m\n\u001b[0;32m----> 1\u001b[0;31m \u001b[0mall_sessions\u001b[0m \u001b[0;34m=\u001b[0m \u001b[0msess_list\u001b[0m\u001b[0;34m[\u001b[0m\u001b[0;34m:\u001b[0m\u001b[0;36m2\u001b[0m\u001b[0;34m]\u001b[0m\u001b[0;34m\u001b[0m\u001b[0;34m\u001b[0m\u001b[0m\n\u001b[0m\u001b[1;32m      2\u001b[0m \u001b[0mall_sessions\u001b[0m \u001b[0;34m=\u001b[0m \u001b[0;34m[\u001b[0m\u001b[0;34m'2021-07-18'\u001b[0m\u001b[0;34m]\u001b[0m\u001b[0;34m\u001b[0m\u001b[0;34m\u001b[0m\u001b[0m\n\u001b[1;32m      3\u001b[0m \u001b[0;34m\u001b[0m\u001b[0m\n\u001b[1;32m      4\u001b[0m \u001b[0;32mfor\u001b[0m \u001b[0msess\u001b[0m \u001b[0;32min\u001b[0m \u001b[0mall_sessions\u001b[0m\u001b[0;34m:\u001b[0m\u001b[0;34m\u001b[0m\u001b[0;34m\u001b[0m\u001b[0m\n\u001b[1;32m      5\u001b[0m     \u001b[0msess_par\u001b[0m\u001b[0;34m[\u001b[0m\u001b[0;34m'sess'\u001b[0m\u001b[0;34m]\u001b[0m \u001b[0;34m=\u001b[0m \u001b[0msess\u001b[0m\u001b[0;34m\u001b[0m\u001b[0;34m\u001b[0m\u001b[0m\n",
      "\u001b[0;31mNameError\u001b[0m: name 'sess_list' is not defined"
     ]
    }
   ],
   "source": [
    "all_sessions = sess_list[:2]\n",
    "all_sessions = ['2021-07-18']\n",
    "\n",
    "for sess in all_sessions:\n",
    "    sess_par['sess'] = sess\n",
    "    sess_bout_pd = get_all_day_bouts(sess_par, hparams, parallel=False)\n",
    "    save_auto_bouts(sess_bout_pd, sess_par, hparams)\n",
    "    sess_bouts_folder = os.path.join(exp_struct['folders']['derived'], 'bouts')\n",
    "    #bouts_to_wavs(sess_bout_pd, sess_par, hparams, sess_bouts_folder)"
   ]
  },
  {
   "cell_type": "code",
   "execution_count": 22,
   "metadata": {},
   "outputs": [
    {
     "name": "stdout",
     "output_type": "stream",
     "text": [
      "<class 'pandas.core.frame.DataFrame'>\n",
      "Int64Index: 103 entries, 0 to 37\n",
      "Data columns (total 17 columns):\n",
      " #   Column        Non-Null Count  Dtype  \n",
      "---  ------        --------------  -----  \n",
      " 0   start_ms      103 non-null    int64  \n",
      " 1   end_ms        103 non-null    int64  \n",
      " 2   start_sample  103 non-null    int64  \n",
      " 3   end_sample    103 non-null    int64  \n",
      " 4   p_step        103 non-null    object \n",
      " 5   rms_p         103 non-null    float64\n",
      " 6   peak_p        103 non-null    float64\n",
      " 7   bout_check    103 non-null    bool   \n",
      " 8   file          103 non-null    object \n",
      " 9   len_ms        103 non-null    int64  \n",
      " 10  syl_in        103 non-null    object \n",
      " 11  n_syl         103 non-null    int64  \n",
      " 12  peaks_p       103 non-null    object \n",
      " 13  n_peaks       103 non-null    int64  \n",
      " 14  l_p_ratio     103 non-null    float64\n",
      " 15  waveform      103 non-null    object \n",
      " 16  confusing     103 non-null    bool   \n",
      "dtypes: bool(2), float64(3), int64(7), object(5)\n",
      "memory usage: 13.1+ KB\n"
     ]
    }
   ],
   "source": [
    "sess_bout_pd.info()"
   ]
  },
  {
   "cell_type": "code",
   "execution_count": 24,
   "metadata": {},
   "outputs": [
    {
     "data": {
      "text/plain": [
       "103"
      ]
     },
     "execution_count": 24,
     "metadata": {},
     "output_type": "execute_result"
    }
   ],
   "source": [
    "np.unique(sess_bout_pd['start_ms']).size"
   ]
  },
  {
   "cell_type": "markdown",
   "metadata": {
    "jp-MarkdownHeadingCollapsed": true,
    "tags": []
   },
   "source": [
    "## debug search_bout"
   ]
  },
  {
   "cell_type": "code",
   "execution_count": 21,
   "metadata": {},
   "outputs": [
    {
     "name": "stderr",
     "output_type": "stream",
     "text": [
      "2021-09-22 15:13:39,371 root         INFO     Found 4 files\n"
     ]
    },
    {
     "name": "stdout",
     "output_type": "stream",
     "text": [
      "['/mnt/sphere/speech_bci/derived_data/s_b1253_21/2021-06-14/sglx/0712_g0/wav_mic.wav', '/mnt/sphere/speech_bci/derived_data/s_b1253_21/2021-06-14/sglx/1255_g0/wav_mic.wav', '/mnt/sphere/speech_bci/derived_data/s_b1253_21/2021-06-14/sglx/1740_g0/wav_mic.wav', '/mnt/sphere/speech_bci/derived_data/s_b1253_21/2021-06-14/sglx/2118_g0/wav_mic.wav']\n"
     ]
    }
   ],
   "source": [
    "## look for a single file\n",
    "sess = sess_list[0]\n",
    "\n",
    "exp_struct = et.get_exp_struct(sess_par['bird'], sess, ephys_software='sglx')\n",
    "source_folder = exp_struct['folders']['derived']\n",
    "wav_path_list = et.get_sgl_files_epochs(source_folder, file_filter='*wav_mic.wav')\n",
    "wav_path_list.sort()\n",
    "logger.info('Found {} files'.format(len(wav_path_list)))\n",
    "print(wav_path_list)"
   ]
  },
  {
   "cell_type": "code",
   "execution_count": 22,
   "metadata": {},
   "outputs": [],
   "source": [
    "one_file = wav_path_list[0]"
   ]
  },
  {
   "cell_type": "code",
   "execution_count": null,
   "metadata": {},
   "outputs": [
    {
     "name": "stderr",
     "output_type": "stream",
     "text": [
      "2021-09-22 15:13:45,924 ceciestunepipe.util.sound.boutsearch INFO     Getting bouts for long file /mnt/sphere/speech_bci/derived_data/s_b1253_21/2021-06-14/sglx/0712_g0/wav_mic.wav\n"
     ]
    },
    {
     "name": "stdout",
     "output_type": "stream",
     "text": [
      "tu vieja file /mnt/sphere/speech_bci/derived_data/s_b1253_21/2021-06-14/sglx/0712_g0/wav_mic.wav\n"
     ]
    },
    {
     "name": "stderr",
     "output_type": "stream",
     "text": [
      "2021-09-22 15:13:45,962 ceciestunepipe.util.sound.boutsearch INFO     splitting file into 5 chunks\n"
     ]
    },
    {
     "data": {
      "application/vnd.jupyter.widget-view+json": {
       "model_id": "2ee46791b8cc495dae356f151c0a45d0",
       "version_major": 2,
       "version_minor": 0
      },
      "text/plain": [
       "  0%|          | 0/5 [00:00<?, ?it/s]"
      ]
     },
     "metadata": {},
     "output_type": "display_data"
    }
   ],
   "source": [
    "reload(bs)\n",
    "epoch_bout_pd, epoch_wav = bs.get_bouts_in_long_file(wav_path_list[0], hparams)"
   ]
  },
  {
   "cell_type": "code",
   "execution_count": null,
   "metadata": {},
   "outputs": [],
   "source": []
  }
 ],
 "metadata": {
  "kernelspec": {
   "display_name": "bird_nwb",
   "language": "python",
   "name": "bird_nwb"
  },
  "language_info": {
   "codemirror_mode": {
    "name": "ipython",
    "version": 3
   },
   "file_extension": ".py",
   "mimetype": "text/x-python",
   "name": "python",
   "nbconvert_exporter": "python",
   "pygments_lexer": "ipython3",
   "version": "3.11.7"
  }
 },
 "nbformat": 4,
 "nbformat_minor": 4
}
