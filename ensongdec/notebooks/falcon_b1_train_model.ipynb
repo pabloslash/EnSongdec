{
 "cells": [
  {
   "cell_type": "code",
   "execution_count": 3,
   "id": "f9cc64f3-7825-40b8-8bb5-09d169705ec8",
   "metadata": {},
   "outputs": [],
   "source": [
    "import os\n",
    "import sys\n",
    "import argparse\n",
    "import json\n",
    "from matplotlib.backends.backend_pdf import PdfPages\n",
    "import wandb\n",
    "import datetime\n",
    "from scipy.ndimage import gaussian_filter, gaussian_filter1d\n",
    "\n",
    "def add_to_sys_path(root_dir):\n",
    "    for dirpath, dirnames, filenames in os.walk(root_dir):\n",
    "        sys.path.append(dirpath)        \n",
    "root_dir = '/home/jovyan/pablo_tostado/bird_song/enSongDec/'\n",
    "add_to_sys_path(root_dir)\n",
    "\n",
    "import pickle as pkl\n",
    "import numpy as np\n",
    "import warnings\n",
    "from pynwb import NWBHDF5IO\n",
    "from importlib import reload\n",
    "\n",
    "import torch\n",
    "import torch.nn as nn\n",
    "import torch.optim as optim\n",
    "from torch.utils.data import DataLoader\n",
    "\n",
    "from FFNNmodel import FeedforwardNeuralNetwork, ffnn_train, ffnn_evaluate, ffnn_predict\n",
    "from neural_audio_dataset import NeuralAudioDataset\n",
    "import utils.audio_utils as au\n",
    "import utils.encodec_utils as eu\n",
    "import utils.signal_utils as su\n",
    "import utils.train_utils as tu\n",
    "import utils.visualization_utils as vu\n",
    "\n",
    "import songbirdcore.spikefinder.spike_analysis_helper as sh\n",
    "import songbirdcore.spikefinder.filtering_helper as fh\n",
    "\n",
    "# EncoDec\n",
    "from encodec import EncodecModel\n",
    "from encodec.utils import convert_audio\n",
    "\n",
    "# Tim S. noise reduce\n",
    "import noisereduce as nr\n"
   ]
  },
  {
   "cell_type": "code",
   "execution_count": 2,
   "id": "aff52d83-10a6-4a05-a477-cc043e92cb49",
   "metadata": {},
   "outputs": [
    {
     "ename": "SyntaxError",
     "evalue": "unterminated string literal (detected at line 2) (762928161.py, line 2)",
     "output_type": "error",
     "traceback": [
      "\u001b[0;36m  Cell \u001b[0;32mIn[2], line 2\u001b[0;36m\u001b[0m\n\u001b[0;31m    \"/home/jovyan/pablo_tostado/bird_song/enSongDec/ensongdec/configs/z_r12r13_21/\u001b[0m\n\u001b[0m    ^\u001b[0m\n\u001b[0;31mSyntaxError\u001b[0m\u001b[0;31m:\u001b[0m unterminated string literal (detected at line 2)\n"
     ]
    }
   ],
   "source": [
    "python main.py --config_filepath \n",
    "\"/home/jovyan/pablo_tostado/bird_song/enSongDec/ensongdec/configs/z_r12r13_21/\n",
    "config_FALCON_thresholds_RA_z_r12r13_21-day1.json\"\n",
    "--override_dict \"{\\\"hidden_layer_sizes\\\": [[64, 64]]}\""
   ]
  },
  {
   "cell_type": "code",
   "execution_count": null,
   "id": "26273bc1-1d55-48de-b1a3-996762769cea",
   "metadata": {},
   "outputs": [],
   "source": [
    "data_dir = '/home/jovyan/pablo_tostado/bird_song/finch_Tx_processing/z_r12r13_21/2021-06-27.0727/2021.06.27_nwb_files/'\n",
    "\n",
    "nwb_file_path_calib = data_dir + 'z_r12r13_21_2021.06.27_held_in_calib.nwb'\n",
    "nwb_file_path_eval = data_dir + 'z_r12r13_21_2021.06.27_held_in_eval.nwb'\n",
    "nwb_file_path_minival = data_dir + 'z_r12r13_21_2021.06.27_held_in_minival.nwb'"
   ]
  },
  {
   "cell_type": "code",
   "execution_count": 6,
   "id": "da01e1cf-e81c-4bc3-98ba-5739a6bdce63",
   "metadata": {},
   "outputs": [
    {
     "name": "stdout",
     "output_type": "stream",
     "text": [
      "<_io.TextIOWrapper name='/home/jovyan/pablo_tostado/bird_song/enSongDec/ensongdec/configs/z_r12r13_21/config_FALCON_thresholds_RA_z_r12r13_21-train.json' mode='r' encoding='UTF-8'>\n"
     ]
    }
   ],
   "source": [
    "config_filepath = \"/home/jovyan/pablo_tostado/bird_song/enSongDec/ensongdec/configs/z_r12r13_21/config_FALCON_thresholds_RA_z_r12r13_21-train.json\"\n",
    "with open(config_filepath, 'r') as file:\n",
    "    print(file)"
   ]
  },
  {
   "cell_type": "code",
   "execution_count": 9,
   "id": "fb96fa20-013b-451e-abe7-4bf7a2b6a5ff",
   "metadata": {},
   "outputs": [
    {
     "name": "stdout",
     "output_type": "stream",
     "text": [
      "Updated hidden_layer_sizes to [64, 64]\n",
      "Traceback (most recent call last):\n",
      "  File \"/home/jovyan/pablo_tostado/bird_song/enSongDec/ensongdec/notebooks/../main_falcon.py\", line 278, in <module>\n",
      "    main(args.config_filepath, override_dict=override_dict)\n",
      "  File \"/home/jovyan/pablo_tostado/bird_song/enSongDec/ensongdec/notebooks/../main_falcon.py\", line 69, in main\n",
      "    run_experiment(override_experiment_metadata, config_filepath)\n",
      "  File \"/home/jovyan/pablo_tostado/bird_song/enSongDec/ensongdec/notebooks/../main_falcon.py\", line 113, in run_experiment\n",
      "    neural_array, fs_neural, audio_motifs, fs_audio = load_falcon_nwb(nwb_file_path_calib)\n",
      "                                                      ^^^^^^^^^^^^^^^\n",
      "NameError: name 'load_falcon_nwb' is not defined\n"
     ]
    }
   ],
   "source": [
    "config_filepath = \"/home/jovyan/pablo_tostado/bird_song/enSongDec/ensongdec/configs/z_r12r13_21/config_FALCON_thresholds_RA_z_r12r13_21-train.json\"\n",
    "\n",
    "!python ../main_falcon.py --config_filepath {config_filepath} --override_dict '{{\"hidden_layer_sizes\": [[64, 64]]}}'\n"
   ]
  },
  {
   "cell_type": "code",
   "execution_count": null,
   "id": "d3c4d805-006b-45d9-a8ad-226fc01232fa",
   "metadata": {},
   "outputs": [],
   "source": []
  }
 ],
 "metadata": {
  "kernelspec": {
   "display_name": "Python 3 (ipykernel)",
   "language": "python",
   "name": "python3"
  },
  "language_info": {
   "codemirror_mode": {
    "name": "ipython",
    "version": 3
   },
   "file_extension": ".py",
   "mimetype": "text/x-python",
   "name": "python",
   "nbconvert_exporter": "python",
   "pygments_lexer": "ipython3",
   "version": "3.11.7"
  }
 },
 "nbformat": 4,
 "nbformat_minor": 5
}
